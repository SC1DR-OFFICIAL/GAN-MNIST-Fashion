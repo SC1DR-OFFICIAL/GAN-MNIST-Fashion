{
  "nbformat": 4,
  "nbformat_minor": 0,
  "metadata": {
    "colab": {
      "provenance": [],
      "machine_shape": "hm",
      "gpuType": "L4",
      "authorship_tag": "ABX9TyO2URJC6y2FE3bagjs8jeS+",
      "include_colab_link": true
    },
    "kernelspec": {
      "name": "python3",
      "display_name": "Python 3"
    },
    "language_info": {
      "name": "python"
    },
    "accelerator": "GPU"
  },
  "cells": [
    {
      "cell_type": "markdown",
      "metadata": {
        "id": "view-in-github",
        "colab_type": "text"
      },
      "source": [
        "<a href=\"https://colab.research.google.com/github/SC1DR-OFFICIAL/GAN-MNIST-Fashion/blob/main/GAN_MNIST_Fashion.ipynb\" target=\"_parent\"><img src=\"https://colab.research.google.com/assets/colab-badge.svg\" alt=\"Open In Colab\"/></a>"
      ]
    },
    {
      "cell_type": "markdown",
      "source": [
        "# Problem Statement\n",
        "\n",
        "**Goal:** Compare two different DCGAN architectures (classic and improved) on the task of generating clothing images from the Fashion-MNIST dataset. Draw conclusions about their effectiveness.\n",
        "\n",
        "**Action Plan:**\n",
        "1. Load and prepare the Fashion-MNIST dataset.\n",
        "2. Implement both generator and discriminator models.\n",
        "3. Train both GAN models (sequentially) on the same dataset:\n",
        "   - Use the same latent vector size.\n",
        "   - Use the same number of epochs.\n",
        "   - Use the same training parameters.\n",
        "4. Perform a **comparative analysis** of the results.\n",
        "5. Make **conclusions** — which architecture trained faster, generated more realistic images, and had better stability."
      ],
      "metadata": {
        "id": "-A287GcA62_V"
      }
    },
    {
      "cell_type": "markdown",
      "source": [
        "# Loading the Fashion-MNIST Dataset"
      ],
      "metadata": {
        "id": "4yxpLqHV7XTg"
      }
    },
    {
      "cell_type": "markdown",
      "source": [
        "Importing libraries"
      ],
      "metadata": {
        "id": "hawG-tkO9Dk5"
      }
    },
    {
      "cell_type": "code",
      "source": [
        "# Working with images\n",
        "from PIL import Image\n",
        "import imageio\n",
        "import cv2\n",
        "from keras.preprocessing.image import img_to_array\n",
        "\n",
        "# Linear algebra library\n",
        "import numpy as np\n",
        "\n",
        "# Working with the file system and system functions\n",
        "import os\n",
        "\n",
        "# Data preprocessing\n",
        "from keras import preprocessing\n",
        "import tensorflow as tf\n",
        "\n",
        "# Building the network\n",
        "from keras.models import Sequential\n",
        "from keras.layers import Conv2D, Dropout, Dense, Flatten, Conv2DTranspose, BatchNormalization, LeakyReLU, Reshape\n",
        "\n",
        "# Visualization of processes and loops\n",
        "from tqdm import tqdm\n",
        "\n",
        "# Random number generation\n",
        "import re\n",
        "\n",
        "# Working with plots\n",
        "import matplotlib.pyplot as plt\n",
        "import seaborn as sns\n",
        "%matplotlib inline\n",
        "\n",
        "# Disable unnecessary warnings\n",
        "import warnings\n",
        "warnings.filterwarnings('ignore')"
      ],
      "metadata": {
        "id": "-DmP6RUe9Fky"
      },
      "execution_count": 1,
      "outputs": []
    },
    {
      "cell_type": "markdown",
      "source": [
        "Loading the Fashion MNIST dataset"
      ],
      "metadata": {
        "id": "EyenKQdi9HdC"
      }
    },
    {
      "cell_type": "code",
      "execution_count": 2,
      "metadata": {
        "id": "tW_nybeL0RT1",
        "colab": {
          "base_uri": "https://localhost:8080/"
        },
        "outputId": "ee4178b1-df10-4c28-8777-e2a14874233e"
      },
      "outputs": [
        {
          "output_type": "stream",
          "name": "stdout",
          "text": [
            "Downloading data from https://storage.googleapis.com/tensorflow/tf-keras-datasets/train-labels-idx1-ubyte.gz\n",
            "\u001b[1m29515/29515\u001b[0m \u001b[32m━━━━━━━━━━━━━━━━━━━━\u001b[0m\u001b[37m\u001b[0m \u001b[1m0s\u001b[0m 0us/step\n",
            "Downloading data from https://storage.googleapis.com/tensorflow/tf-keras-datasets/train-images-idx3-ubyte.gz\n",
            "\u001b[1m26421880/26421880\u001b[0m \u001b[32m━━━━━━━━━━━━━━━━━━━━\u001b[0m\u001b[37m\u001b[0m \u001b[1m0s\u001b[0m 0us/step\n",
            "Downloading data from https://storage.googleapis.com/tensorflow/tf-keras-datasets/t10k-labels-idx1-ubyte.gz\n",
            "\u001b[1m5148/5148\u001b[0m \u001b[32m━━━━━━━━━━━━━━━━━━━━\u001b[0m\u001b[37m\u001b[0m \u001b[1m0s\u001b[0m 0us/step\n",
            "Downloading data from https://storage.googleapis.com/tensorflow/tf-keras-datasets/t10k-images-idx3-ubyte.gz\n",
            "\u001b[1m4422102/4422102\u001b[0m \u001b[32m━━━━━━━━━━━━━━━━━━━━\u001b[0m\u001b[37m\u001b[0m \u001b[1m0s\u001b[0m 0us/step\n"
          ]
        }
      ],
      "source": [
        "(train_images, _), (_, _) = tf.keras.datasets.fashion_mnist.load_data()"
      ]
    },
    {
      "cell_type": "markdown",
      "source": [
        "Let's check the image sizes"
      ],
      "metadata": {
        "id": "f3Wsrl4IgKJu"
      }
    },
    {
      "cell_type": "code",
      "source": [
        "print(\"Shape of train_images:\", train_images.shape)\n",
        "print(\"Data type:\", train_images.dtype)"
      ],
      "metadata": {
        "colab": {
          "base_uri": "https://localhost:8080/"
        },
        "id": "lq4RLTnhgSkZ",
        "outputId": "7347b027-0657-4d7e-db24-a97e1c81b779"
      },
      "execution_count": 3,
      "outputs": [
        {
          "output_type": "stream",
          "name": "stdout",
          "text": [
            "Shape of train_images: (60000, 28, 28)\n",
            "Data type: uint8\n"
          ]
        }
      ]
    },
    {
      "cell_type": "markdown",
      "source": [
        "Let's define variables for our model and input images"
      ],
      "metadata": {
        "id": "xbOM0R3s9X_J"
      }
    },
    {
      "cell_type": "code",
      "source": [
        "SIZE = 28                     # image size per dimension\n",
        "INPUT_IMG = (SIZE, SIZE, 1)   # grayscale image → 1 channel\n",
        "BATCH_SIZE = 32               # batch size for training\n",
        "LATENT_DIM = 100              # dimensionality of the latent space\n",
        "EPOCHS = 50                   # number of training epochs"
      ],
      "metadata": {
        "id": "C_ZohkGa9aZx"
      },
      "execution_count": 4,
      "outputs": []
    },
    {
      "cell_type": "markdown",
      "source": [
        "Load images into a tensor, scaling them to the range $[-1, 1]$, since we will use the `tanh` activation function in the output layer of the generator.\n"
      ],
      "metadata": {
        "id": "TvG1I6529jtd"
      }
    },
    {
      "cell_type": "code",
      "source": [
        "images = []\n",
        "for img in train_images:\n",
        "    # Do not convert to RGB — keep as 1 channel\n",
        "    img_pil = Image.fromarray(img)\n",
        "\n",
        "    # Optional: resize (if SIZE ≠ 28)\n",
        "    if SIZE != 28:\n",
        "        img_pil = img_pil.resize((SIZE, SIZE))\n",
        "\n",
        "    # Convert to float32 array and normalize to [-1, 1]\n",
        "    img_array = np.array(img_pil).astype(np.float32)\n",
        "    img_array = (img_array - 127.5) / 127.5\n",
        "\n",
        "    # Add channel dimension: (H, W) → (H, W, 1)\n",
        "    img_array = np.expand_dims(img_array, axis=-1)\n",
        "\n",
        "    images.append(img_array)\n",
        "\n",
        "X_train = np.array(images)"
      ],
      "metadata": {
        "id": "gsl9dK409mt-"
      },
      "execution_count": 5,
      "outputs": []
    },
    {
      "cell_type": "markdown",
      "source": [
        "Generate a dataset with batching from the NumPy image tensor.  \n",
        "Using the `Dataset` class allows the Keras framework (or more precisely, TensorFlow as its backend) to optimize computations, primarily saving RAM.\n"
      ],
      "metadata": {
        "id": "D6YqksRQ_BgY"
      }
    },
    {
      "cell_type": "code",
      "source": [
        "dataset = tf.data.Dataset.from_tensor_slices(X_train).shuffle(buffer_size=len(X_train)).batch(BATCH_SIZE)"
      ],
      "metadata": {
        "id": "HakWgXEJ_BuA"
      },
      "execution_count": 6,
      "outputs": []
    },
    {
      "cell_type": "markdown",
      "source": [
        "### Data Visualization"
      ],
      "metadata": {
        "id": "ArKEWX1e_MBF"
      }
    },
    {
      "cell_type": "code",
      "source": [
        "def plot_images(sqr=5):\n",
        "    plt.figure(figsize=(10, 10))\n",
        "    plt.title(\"Real Images\", fontsize=35)\n",
        "    for i in range(sqr * sqr):\n",
        "        plt.subplot(sqr, sqr, i+1)\n",
        "        plt.imshow(X_train[i] * 0.5 + 0.5, cmap=\"gray\")\n",
        "        plt.axis('off')\n",
        "\n",
        "# To plot images\n",
        "plot_images(6)"
      ],
      "metadata": {
        "colab": {
          "base_uri": "https://localhost:8080/",
          "height": 878
        },
        "id": "E7k4VGxE_NgV",
        "outputId": "73e2e97b-9a72-4cf6-eddd-39f139fec317"
      },
      "execution_count": 7,
      "outputs": [
        {
          "output_type": "display_data",
          "data": {
            "text/plain": [
              "<Figure size 1000x1000 with 37 Axes>"
            ],
            "image/png": "[encoded data removed]"
          },
          "metadata": {}
        }
      ]
    },
    {
      "cell_type": "markdown",
      "source": [
        "# Model architecture"
      ],
      "metadata": {
        "id": "gN-euSiX79v_"
      }
    },
    {
      "cell_type": "markdown",
      "source": [
        "The model architecture consists of a generator and a discriminator."
      ],
      "metadata": {
        "id": "ltA8cJB6APme"
      }
    },
    {
      "cell_type": "markdown",
      "source": [
        "## Classic DCGAN"
      ],
      "metadata": {
        "id": "zccqri4UCD26"
      }
    },
    {
      "cell_type": "markdown",
      "source": [
        "![image.png](data:image/png;base64,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)"
      ],
      "metadata": {
        "id": "dnwtGxwYCFw7"
      }
    },
    {
      "cell_type": "markdown",
      "source": [
        "DCGAN (Deep Convolutional GAN) consists of two main components:\n",
        "\n",
        "* Generator — creates images from random noise.\n",
        "* Discriminator — determines whether the images are real or generated.\n"
      ],
      "metadata": {
        "id": "Wa-JsSJ0D5Ww"
      }
    },
    {
      "cell_type": "markdown",
      "source": [
        "**Classic DCGAN** builds an image from a noise vector of shape (100,) by progressively increasing the resolution through `Conv2DTranspose` layers. The architecture is linear, strictly directed from bottom to top: from low resolution (4×4) to the final (28×28×1). This makes the structure simple and efficient but with limited capability to reconstruct complex details."
      ],
      "metadata": {
        "id": "VdR9VpHCEopw"
      }
    },
    {
      "cell_type": "markdown",
      "source": [
        "#### Generator"
      ],
      "metadata": {
        "id": "pHLjQOsECuur"
      }
    },
    {
      "cell_type": "code",
      "source": [
        "def GeneratorClassic():\n",
        "    model = Sequential()\n",
        "\n",
        "    # 7x7x128 — immediately approximate to 28x28 to make only 2 upsamplings\n",
        "    model.add(tf.keras.layers.Dense(7*7*128, use_bias=False, input_shape=(LATENT_DIM,)))\n",
        "    model.add(tf.keras.layers.Reshape((7, 7, 128)))\n",
        "    model.add(tf.keras.layers.BatchNormalization())\n",
        "    model.add(tf.keras.layers.ReLU())\n",
        "\n",
        "    # 14x14x64\n",
        "    model.add(tf.keras.layers.Conv2DTranspose(64, kernel_size=5, strides=2, padding='same', use_bias=False))\n",
        "    model.add(tf.keras.layers.BatchNormalization())\n",
        "    model.add(tf.keras.layers.ReLU())\n",
        "\n",
        "    # 28x28x1\n",
        "    model.add(tf.keras.layers.Conv2DTranspose(1, kernel_size=5, strides=2, padding='same', activation='tanh'))\n",
        "\n",
        "    return model"
      ],
      "metadata": {
        "id": "OrKad64OCvuL"
      },
      "execution_count": 8,
      "outputs": []
    },
    {
      "cell_type": "code",
      "source": [
        "generator_classic = GeneratorClassic()\n",
        "generator_classic.summary()"
      ],
      "metadata": {
        "colab": {
          "base_uri": "https://localhost:8080/",
          "height": 463
        },
        "id": "I969a2RXDRXw",
        "outputId": "62e76e5e-b892-46ee-9abe-b3efab045504"
      },
      "execution_count": 9,
      "outputs": [
        {
          "output_type": "display_data",
          "data": {
            "text/plain": [
              "\u001b[1mModel: \"sequential\"\u001b[0m\n"
            ],
            "text/html": [
              "<pre style=\"white-space:pre;overflow-x:auto;line-height:normal;font-family:Menlo,'DejaVu Sans Mono',consolas,'Courier New',monospace\"><span style=\"font-weight: bold\">Model: \"sequential\"</span>\n",
              "</pre>\n"
            ]
          },
          "metadata": {}
        },
        {
          "output_type": "display_data",
          "data": {
            "text/plain": [
              "┏━━━━━━━━━━━━━━━━━━━━━━━━━━━━━━━━━┳━━━━━━━━━━━━━━━━━━━━━━━━┳━━━━━━━━━━━━━━━┓\n",
              "┃\u001b[1m \u001b[0m\u001b[1mLayer (type)                   \u001b[0m\u001b[1m \u001b[0m┃\u001b[1m \u001b[0m\u001b[1mOutput Shape          \u001b[0m\u001b[1m \u001b[0m┃\u001b[1m \u001b[0m\u001b[1m      Param #\u001b[0m\u001b[1m \u001b[0m┃\n",
              "┡━━━━━━━━━━━━━━━━━━━━━━━━━━━━━━━━━╇━━━━━━━━━━━━━━━━━━━━━━━━╇━━━━━━━━━━━━━━━┩\n",
              "│ dense (\u001b[38;5;33mDense\u001b[0m)                   │ (\u001b[38;5;45mNone\u001b[0m, \u001b[38;5;34m6272\u001b[0m)           │       \u001b[38;5;34m627,200\u001b[0m │\n",
              "├─────────────────────────────────┼────────────────────────┼───────────────┤\n",
              "│ reshape (\u001b[38;5;33mReshape\u001b[0m)               │ (\u001b[38;5;45mNone\u001b[0m, \u001b[38;5;34m7\u001b[0m, \u001b[38;5;34m7\u001b[0m, \u001b[38;5;34m128\u001b[0m)      │             \u001b[38;5;34m0\u001b[0m │\n",
              "├─────────────────────────────────┼────────────────────────┼───────────────┤\n",
              "│ batch_normalization             │ (\u001b[38;5;45mNone\u001b[0m, \u001b[38;5;34m7\u001b[0m, \u001b[38;5;34m7\u001b[0m, \u001b[38;5;34m128\u001b[0m)      │           \u001b[38;5;34m512\u001b[0m │\n",
              "│ (\u001b[38;5;33mBatchNormalization\u001b[0m)            │                        │               │\n",
              "├─────────────────────────────────┼────────────────────────┼───────────────┤\n",
              "│ re_lu (\u001b[38;5;33mReLU\u001b[0m)                    │ (\u001b[38;5;45mNone\u001b[0m, \u001b[38;5;34m7\u001b[0m, \u001b[38;5;34m7\u001b[0m, \u001b[38;5;34m128\u001b[0m)      │             \u001b[38;5;34m0\u001b[0m │\n",
              "├─────────────────────────────────┼────────────────────────┼───────────────┤\n",
              "│ conv2d_transpose                │ (\u001b[38;5;45mNone\u001b[0m, \u001b[38;5;34m14\u001b[0m, \u001b[38;5;34m14\u001b[0m, \u001b[38;5;34m64\u001b[0m)     │       \u001b[38;5;34m204,800\u001b[0m │\n",
              "│ (\u001b[38;5;33mConv2DTranspose\u001b[0m)               │                        │               │\n",
              "├─────────────────────────────────┼────────────────────────┼───────────────┤\n",
              "│ batch_normalization_1           │ (\u001b[38;5;45mNone\u001b[0m, \u001b[38;5;34m14\u001b[0m, \u001b[38;5;34m14\u001b[0m, \u001b[38;5;34m64\u001b[0m)     │           \u001b[38;5;34m256\u001b[0m │\n",
              "│ (\u001b[38;5;33mBatchNormalization\u001b[0m)            │                        │               │\n",
              "├─────────────────────────────────┼────────────────────────┼───────────────┤\n",
              "│ re_lu_1 (\u001b[38;5;33mReLU\u001b[0m)                  │ (\u001b[38;5;45mNone\u001b[0m, \u001b[38;5;34m14\u001b[0m, \u001b[38;5;34m14\u001b[0m, \u001b[38;5;34m64\u001b[0m)     │             \u001b[38;5;34m0\u001b[0m │\n",
              "├─────────────────────────────────┼────────────────────────┼───────────────┤\n",
              "│ conv2d_transpose_1              │ (\u001b[38;5;45mNone\u001b[0m, \u001b[38;5;34m28\u001b[0m, \u001b[38;5;34m28\u001b[0m, \u001b[38;5;34m1\u001b[0m)      │         \u001b[38;5;34m1,601\u001b[0m │\n",
              "│ (\u001b[38;5;33mConv2DTranspose\u001b[0m)               │                        │               │\n",
              "└─────────────────────────────────┴────────────────────────┴───────────────┘\n"
            ],
            "text/html": [
              "<pre style=\"white-space:pre;overflow-x:auto;line-height:normal;font-family:Menlo,'DejaVu Sans Mono',consolas,'Courier New',monospace\">┏━━━━━━━━━━━━━━━━━━━━━━━━━━━━━━━━━┳━━━━━━━━━━━━━━━━━━━━━━━━┳━━━━━━━━━━━━━━━┓\n",
              "┃<span style=\"font-weight: bold\"> Layer (type)                    </span>┃<span style=\"font-weight: bold\"> Output Shape           </span>┃<span style=\"font-weight: bold\">       Param # </span>┃\n",
              "┡━━━━━━━━━━━━━━━━━━━━━━━━━━━━━━━━━╇━━━━━━━━━━━━━━━━━━━━━━━━╇━━━━━━━━━━━━━━━┩\n",
              "│ dense (<span style=\"color: #0087ff; text-decoration-color: #0087ff\">Dense</span>)                   │ (<span style=\"color: #00d7ff; text-decoration-color: #00d7ff\">None</span>, <span style=\"color: #00af00; text-decoration-color: #00af00\">6272</span>)           │       <span style=\"color: #00af00; text-decoration-color: #00af00\">627,200</span> │\n",
              "├─────────────────────────────────┼────────────────────────┼───────────────┤\n",
              "│ reshape (<span style=\"color: #0087ff; text-decoration-color: #0087ff\">Reshape</span>)               │ (<span style=\"color: #00d7ff; text-decoration-color: #00d7ff\">None</span>, <span style=\"color: #00af00; text-decoration-color: #00af00\">7</span>, <span style=\"color: #00af00; text-decoration-color: #00af00\">7</span>, <span style=\"color: #00af00; text-decoration-color: #00af00\">128</span>)      │             <span style=\"color: #00af00; text-decoration-color: #00af00\">0</span> │\n",
              "├─────────────────────────────────┼────────────────────────┼───────────────┤\n",
              "│ batch_normalization             │ (<span style=\"color: #00d7ff; text-decoration-color: #00d7ff\">None</span>, <span style=\"color: #00af00; text-decoration-color: #00af00\">7</span>, <span style=\"color: #00af00; text-decoration-color: #00af00\">7</span>, <span style=\"color: #00af00; text-decoration-color: #00af00\">128</span>)      │           <span style=\"color: #00af00; text-decoration-color: #00af00\">512</span> │\n",
              "│ (<span style=\"color: #0087ff; text-decoration-color: #0087ff\">BatchNormalization</span>)            │                        │               │\n",
              "├─────────────────────────────────┼────────────────────────┼───────────────┤\n",
              "│ re_lu (<span style=\"color: #0087ff; text-decoration-color: #0087ff\">ReLU</span>)                    │ (<span style=\"color: #00d7ff; text-decoration-color: #00d7ff\">None</span>, <span style=\"color: #00af00; text-decoration-color: #00af00\">7</span>, <span style=\"color: #00af00; text-decoration-color: #00af00\">7</span>, <span style=\"color: #00af00; text-decoration-color: #00af00\">128</span>)      │             <span style=\"color: #00af00; text-decoration-color: #00af00\">0</span> │\n",
              "├─────────────────────────────────┼────────────────────────┼───────────────┤\n",
              "│ conv2d_transpose                │ (<span style=\"color: #00d7ff; text-decoration-color: #00d7ff\">None</span>, <span style=\"color: #00af00; text-decoration-color: #00af00\">14</span>, <span style=\"color: #00af00; text-decoration-color: #00af00\">14</span>, <span style=\"color: #00af00; text-decoration-color: #00af00\">64</span>)     │       <span style=\"color: #00af00; text-decoration-color: #00af00\">204,800</span> │\n",
              "│ (<span style=\"color: #0087ff; text-decoration-color: #0087ff\">Conv2DTranspose</span>)               │                        │               │\n",
              "├─────────────────────────────────┼────────────────────────┼───────────────┤\n",
              "│ batch_normalization_1           │ (<span style=\"color: #00d7ff; text-decoration-color: #00d7ff\">None</span>, <span style=\"color: #00af00; text-decoration-color: #00af00\">14</span>, <span style=\"color: #00af00; text-decoration-color: #00af00\">14</span>, <span style=\"color: #00af00; text-decoration-color: #00af00\">64</span>)     │           <span style=\"color: #00af00; text-decoration-color: #00af00\">256</span> │\n",
              "│ (<span style=\"color: #0087ff; text-decoration-color: #0087ff\">BatchNormalization</span>)            │                        │               │\n",
              "├─────────────────────────────────┼────────────────────────┼───────────────┤\n",
              "│ re_lu_1 (<span style=\"color: #0087ff; text-decoration-color: #0087ff\">ReLU</span>)                  │ (<span style=\"color: #00d7ff; text-decoration-color: #00d7ff\">None</span>, <span style=\"color: #00af00; text-decoration-color: #00af00\">14</span>, <span style=\"color: #00af00; text-decoration-color: #00af00\">14</span>, <span style=\"color: #00af00; text-decoration-color: #00af00\">64</span>)     │             <span style=\"color: #00af00; text-decoration-color: #00af00\">0</span> │\n",
              "├─────────────────────────────────┼────────────────────────┼───────────────┤\n",
              "│ conv2d_transpose_1              │ (<span style=\"color: #00d7ff; text-decoration-color: #00d7ff\">None</span>, <span style=\"color: #00af00; text-decoration-color: #00af00\">28</span>, <span style=\"color: #00af00; text-decoration-color: #00af00\">28</span>, <span style=\"color: #00af00; text-decoration-color: #00af00\">1</span>)      │         <span style=\"color: #00af00; text-decoration-color: #00af00\">1,601</span> │\n",
              "│ (<span style=\"color: #0087ff; text-decoration-color: #0087ff\">Conv2DTranspose</span>)               │                        │               │\n",
              "└─────────────────────────────────┴────────────────────────┴───────────────┘\n",
              "</pre>\n"
            ]
          },
          "metadata": {}
        },
        {
          "output_type": "display_data",
          "data": {
            "text/plain": [
              "\u001b[1m Total params: \u001b[0m\u001b[38;5;34m834,369\u001b[0m (3.18 MB)\n"
            ],
            "text/html": [
              "<pre style=\"white-space:pre;overflow-x:auto;line-height:normal;font-family:Menlo,'DejaVu Sans Mono',consolas,'Courier New',monospace\"><span style=\"font-weight: bold\"> Total params: </span><span style=\"color: #00af00; text-decoration-color: #00af00\">834,369</span> (3.18 MB)\n",
              "</pre>\n"
            ]
          },
          "metadata": {}
        },
        {
          "output_type": "display_data",
          "data": {
            "text/plain": [
              "\u001b[1m Trainable params: \u001b[0m\u001b[38;5;34m833,985\u001b[0m (3.18 MB)\n"
            ],
            "text/html": [
              "<pre style=\"white-space:pre;overflow-x:auto;line-height:normal;font-family:Menlo,'DejaVu Sans Mono',consolas,'Courier New',monospace\"><span style=\"font-weight: bold\"> Trainable params: </span><span style=\"color: #00af00; text-decoration-color: #00af00\">833,985</span> (3.18 MB)\n",
              "</pre>\n"
            ]
          },
          "metadata": {}
        },
        {
          "output_type": "display_data",
          "data": {
            "text/plain": [
              "\u001b[1m Non-trainable params: \u001b[0m\u001b[38;5;34m384\u001b[0m (1.50 KB)\n"
            ],
            "text/html": [
              "<pre style=\"white-space:pre;overflow-x:auto;line-height:normal;font-family:Menlo,'DejaVu Sans Mono',consolas,'Courier New',monospace\"><span style=\"font-weight: bold\"> Non-trainable params: </span><span style=\"color: #00af00; text-decoration-color: #00af00\">384</span> (1.50 KB)\n",
              "</pre>\n"
            ]
          },
          "metadata": {}
        }
      ]
    },
    {
      "cell_type": "markdown",
      "source": [
        "#### Discriminator"
      ],
      "metadata": {
        "id": "yKSKaO2iC39e"
      }
    },
    {
      "cell_type": "code",
      "source": [
        "def DiscriminatorClassic():\n",
        "    model = Sequential()\n",
        "\n",
        "    # 28x28x1 → 14x14x64\n",
        "    model.add(tf.keras.layers.Conv2D(64, kernel_size=5, strides=2, padding='same', input_shape=(28, 28, 1)))\n",
        "    model.add(tf.keras.layers.LeakyReLU(0.2))\n",
        "    model.add(tf.keras.layers.Dropout(0.3))\n",
        "\n",
        "    # 14x14x64 → 7x7x128\n",
        "    model.add(tf.keras.layers.Conv2D(128, kernel_size=5, strides=2, padding='same'))\n",
        "    model.add(tf.keras.layers.LeakyReLU(0.2))\n",
        "    model.add(tf.keras.layers.Dropout(0.3))\n",
        "\n",
        "    # 7x7x128 → flat → 1\n",
        "    model.add(tf.keras.layers.Flatten())\n",
        "    model.add(tf.keras.layers.Dense(1, activation='sigmoid'))\n",
        "\n",
        "    return model"
      ],
      "metadata": {
        "id": "m7w38NKGC5LW"
      },
      "execution_count": 10,
      "outputs": []
    },
    {
      "cell_type": "code",
      "source": [
        "discriminator_classic = DiscriminatorClassic()\n",
        "discriminator_classic.summary()"
      ],
      "metadata": {
        "colab": {
          "base_uri": "https://localhost:8080/",
          "height": 397
        },
        "id": "XHGWdF9FDWQZ",
        "outputId": "37315a72-2d99-4423-f94f-4fca0eae985a"
      },
      "execution_count": 11,
      "outputs": [
        {
          "output_type": "display_data",
          "data": {
            "text/plain": [
              "\u001b[1mModel: \"sequential_1\"\u001b[0m\n"
            ],
            "text/html": [
              "<pre style=\"white-space:pre;overflow-x:auto;line-height:normal;font-family:Menlo,'DejaVu Sans Mono',consolas,'Courier New',monospace\"><span style=\"font-weight: bold\">Model: \"sequential_1\"</span>\n",
              "</pre>\n"
            ]
          },
          "metadata": {}
        },
        {
          "output_type": "display_data",
          "data": {
            "text/plain": [
              "┏━━━━━━━━━━━━━━━━━━━━━━━━━━━━━━━━━┳━━━━━━━━━━━━━━━━━━━━━━━━┳━━━━━━━━━━━━━━━┓\n",
              "┃\u001b[1m \u001b[0m\u001b[1mLayer (type)                   \u001b[0m\u001b[1m \u001b[0m┃\u001b[1m \u001b[0m\u001b[1mOutput Shape          \u001b[0m\u001b[1m \u001b[0m┃\u001b[1m \u001b[0m\u001b[1m      Param #\u001b[0m\u001b[1m \u001b[0m┃\n",
              "┡━━━━━━━━━━━━━━━━━━━━━━━━━━━━━━━━━╇━━━━━━━━━━━━━━━━━━━━━━━━╇━━━━━━━━━━━━━━━┩\n",
              "│ conv2d (\u001b[38;5;33mConv2D\u001b[0m)                 │ (\u001b[38;5;45mNone\u001b[0m, \u001b[38;5;34m14\u001b[0m, \u001b[38;5;34m14\u001b[0m, \u001b[38;5;34m64\u001b[0m)     │         \u001b[38;5;34m1,664\u001b[0m │\n",
              "├─────────────────────────────────┼────────────────────────┼───────────────┤\n",
              "│ leaky_re_lu (\u001b[38;5;33mLeakyReLU\u001b[0m)         │ (\u001b[38;5;45mNone\u001b[0m, \u001b[38;5;34m14\u001b[0m, \u001b[38;5;34m14\u001b[0m, \u001b[38;5;34m64\u001b[0m)     │             \u001b[38;5;34m0\u001b[0m │\n",
              "├─────────────────────────────────┼────────────────────────┼───────────────┤\n",
              "│ dropout (\u001b[38;5;33mDropout\u001b[0m)               │ (\u001b[38;5;45mNone\u001b[0m, \u001b[38;5;34m14\u001b[0m, \u001b[38;5;34m14\u001b[0m, \u001b[38;5;34m64\u001b[0m)     │             \u001b[38;5;34m0\u001b[0m │\n",
              "├─────────────────────────────────┼────────────────────────┼───────────────┤\n",
              "│ conv2d_1 (\u001b[38;5;33mConv2D\u001b[0m)               │ (\u001b[38;5;45mNone\u001b[0m, \u001b[38;5;34m7\u001b[0m, \u001b[38;5;34m7\u001b[0m, \u001b[38;5;34m128\u001b[0m)      │       \u001b[38;5;34m204,928\u001b[0m │\n",
              "├─────────────────────────────────┼────────────────────────┼───────────────┤\n",
              "│ leaky_re_lu_1 (\u001b[38;5;33mLeakyReLU\u001b[0m)       │ (\u001b[38;5;45mNone\u001b[0m, \u001b[38;5;34m7\u001b[0m, \u001b[38;5;34m7\u001b[0m, \u001b[38;5;34m128\u001b[0m)      │             \u001b[38;5;34m0\u001b[0m │\n",
              "├─────────────────────────────────┼────────────────────────┼───────────────┤\n",
              "│ dropout_1 (\u001b[38;5;33mDropout\u001b[0m)             │ (\u001b[38;5;45mNone\u001b[0m, \u001b[38;5;34m7\u001b[0m, \u001b[38;5;34m7\u001b[0m, \u001b[38;5;34m128\u001b[0m)      │             \u001b[38;5;34m0\u001b[0m │\n",
              "├─────────────────────────────────┼────────────────────────┼───────────────┤\n",
              "│ flatten (\u001b[38;5;33mFlatten\u001b[0m)               │ (\u001b[38;5;45mNone\u001b[0m, \u001b[38;5;34m6272\u001b[0m)           │             \u001b[38;5;34m0\u001b[0m │\n",
              "├─────────────────────────────────┼────────────────────────┼───────────────┤\n",
              "│ dense_1 (\u001b[38;5;33mDense\u001b[0m)                 │ (\u001b[38;5;45mNone\u001b[0m, \u001b[38;5;34m1\u001b[0m)              │         \u001b[38;5;34m6,273\u001b[0m │\n",
              "└─────────────────────────────────┴────────────────────────┴───────────────┘\n"
            ],
            "text/html": [
              "<pre style=\"white-space:pre;overflow-x:auto;line-height:normal;font-family:Menlo,'DejaVu Sans Mono',consolas,'Courier New',monospace\">┏━━━━━━━━━━━━━━━━━━━━━━━━━━━━━━━━━┳━━━━━━━━━━━━━━━━━━━━━━━━┳━━━━━━━━━━━━━━━┓\n",
              "┃<span style=\"font-weight: bold\"> Layer (type)                    </span>┃<span style=\"font-weight: bold\"> Output Shape           </span>┃<span style=\"font-weight: bold\">       Param # </span>┃\n",
              "┡━━━━━━━━━━━━━━━━━━━━━━━━━━━━━━━━━╇━━━━━━━━━━━━━━━━━━━━━━━━╇━━━━━━━━━━━━━━━┩\n",
              "│ conv2d (<span style=\"color: #0087ff; text-decoration-color: #0087ff\">Conv2D</span>)                 │ (<span style=\"color: #00d7ff; text-decoration-color: #00d7ff\">None</span>, <span style=\"color: #00af00; text-decoration-color: #00af00\">14</span>, <span style=\"color: #00af00; text-decoration-color: #00af00\">14</span>, <span style=\"color: #00af00; text-decoration-color: #00af00\">64</span>)     │         <span style=\"color: #00af00; text-decoration-color: #00af00\">1,664</span> │\n",
              "├─────────────────────────────────┼────────────────────────┼───────────────┤\n",
              "│ leaky_re_lu (<span style=\"color: #0087ff; text-decoration-color: #0087ff\">LeakyReLU</span>)         │ (<span style=\"color: #00d7ff; text-decoration-color: #00d7ff\">None</span>, <span style=\"color: #00af00; text-decoration-color: #00af00\">14</span>, <span style=\"color: #00af00; text-decoration-color: #00af00\">14</span>, <span style=\"color: #00af00; text-decoration-color: #00af00\">64</span>)     │             <span style=\"color: #00af00; text-decoration-color: #00af00\">0</span> │\n",
              "├─────────────────────────────────┼────────────────────────┼───────────────┤\n",
              "│ dropout (<span style=\"color: #0087ff; text-decoration-color: #0087ff\">Dropout</span>)               │ (<span style=\"color: #00d7ff; text-decoration-color: #00d7ff\">None</span>, <span style=\"color: #00af00; text-decoration-color: #00af00\">14</span>, <span style=\"color: #00af00; text-decoration-color: #00af00\">14</span>, <span style=\"color: #00af00; text-decoration-color: #00af00\">64</span>)     │             <span style=\"color: #00af00; text-decoration-color: #00af00\">0</span> │\n",
              "├─────────────────────────────────┼────────────────────────┼───────────────┤\n",
              "│ conv2d_1 (<span style=\"color: #0087ff; text-decoration-color: #0087ff\">Conv2D</span>)               │ (<span style=\"color: #00d7ff; text-decoration-color: #00d7ff\">None</span>, <span style=\"color: #00af00; text-decoration-color: #00af00\">7</span>, <span style=\"color: #00af00; text-decoration-color: #00af00\">7</span>, <span style=\"color: #00af00; text-decoration-color: #00af00\">128</span>)      │       <span style=\"color: #00af00; text-decoration-color: #00af00\">204,928</span> │\n",
              "├─────────────────────────────────┼────────────────────────┼───────────────┤\n",
              "│ leaky_re_lu_1 (<span style=\"color: #0087ff; text-decoration-color: #0087ff\">LeakyReLU</span>)       │ (<span style=\"color: #00d7ff; text-decoration-color: #00d7ff\">None</span>, <span style=\"color: #00af00; text-decoration-color: #00af00\">7</span>, <span style=\"color: #00af00; text-decoration-color: #00af00\">7</span>, <span style=\"color: #00af00; text-decoration-color: #00af00\">128</span>)      │             <span style=\"color: #00af00; text-decoration-color: #00af00\">0</span> │\n",
              "├─────────────────────────────────┼────────────────────────┼───────────────┤\n",
              "│ dropout_1 (<span style=\"color: #0087ff; text-decoration-color: #0087ff\">Dropout</span>)             │ (<span style=\"color: #00d7ff; text-decoration-color: #00d7ff\">None</span>, <span style=\"color: #00af00; text-decoration-color: #00af00\">7</span>, <span style=\"color: #00af00; text-decoration-color: #00af00\">7</span>, <span style=\"color: #00af00; text-decoration-color: #00af00\">128</span>)      │             <span style=\"color: #00af00; text-decoration-color: #00af00\">0</span> │\n",
              "├─────────────────────────────────┼────────────────────────┼───────────────┤\n",
              "│ flatten (<span style=\"color: #0087ff; text-decoration-color: #0087ff\">Flatten</span>)               │ (<span style=\"color: #00d7ff; text-decoration-color: #00d7ff\">None</span>, <span style=\"color: #00af00; text-decoration-color: #00af00\">6272</span>)           │             <span style=\"color: #00af00; text-decoration-color: #00af00\">0</span> │\n",
              "├─────────────────────────────────┼────────────────────────┼───────────────┤\n",
              "│ dense_1 (<span style=\"color: #0087ff; text-decoration-color: #0087ff\">Dense</span>)                 │ (<span style=\"color: #00d7ff; text-decoration-color: #00d7ff\">None</span>, <span style=\"color: #00af00; text-decoration-color: #00af00\">1</span>)              │         <span style=\"color: #00af00; text-decoration-color: #00af00\">6,273</span> │\n",
              "└─────────────────────────────────┴────────────────────────┴───────────────┘\n",
              "</pre>\n"
            ]
          },
          "metadata": {}
        },
        {
          "output_type": "display_data",
          "data": {
            "text/plain": [
              "\u001b[1m Total params: \u001b[0m\u001b[38;5;34m212,865\u001b[0m (831.50 KB)\n"
            ],
            "text/html": [
              "<pre style=\"white-space:pre;overflow-x:auto;line-height:normal;font-family:Menlo,'DejaVu Sans Mono',consolas,'Courier New',monospace\"><span style=\"font-weight: bold\"> Total params: </span><span style=\"color: #00af00; text-decoration-color: #00af00\">212,865</span> (831.50 KB)\n",
              "</pre>\n"
            ]
          },
          "metadata": {}
        },
        {
          "output_type": "display_data",
          "data": {
            "text/plain": [
              "\u001b[1m Trainable params: \u001b[0m\u001b[38;5;34m212,865\u001b[0m (831.50 KB)\n"
            ],
            "text/html": [
              "<pre style=\"white-space:pre;overflow-x:auto;line-height:normal;font-family:Menlo,'DejaVu Sans Mono',consolas,'Courier New',monospace\"><span style=\"font-weight: bold\"> Trainable params: </span><span style=\"color: #00af00; text-decoration-color: #00af00\">212,865</span> (831.50 KB)\n",
              "</pre>\n"
            ]
          },
          "metadata": {}
        },
        {
          "output_type": "display_data",
          "data": {
            "text/plain": [
              "\u001b[1m Non-trainable params: \u001b[0m\u001b[38;5;34m0\u001b[0m (0.00 B)\n"
            ],
            "text/html": [
              "<pre style=\"white-space:pre;overflow-x:auto;line-height:normal;font-family:Menlo,'DejaVu Sans Mono',consolas,'Courier New',monospace\"><span style=\"font-weight: bold\"> Non-trainable params: </span><span style=\"color: #00af00; text-decoration-color: #00af00\">0</span> (0.00 B)\n",
              "</pre>\n"
            ]
          },
          "metadata": {}
        }
      ]
    },
    {
      "cell_type": "markdown",
      "source": [
        "## Improved DCGAN"
      ],
      "metadata": {
        "id": "-7QSvSLX_xOS"
      }
    },
    {
      "cell_type": "markdown",
      "source": [
        "**Improved GAN** uses a deeper architecture that includes both downsampling (`Conv2D` with `strides=2`) and upsampling (`Conv2DTranspose`). It starts by creating an image of size 28×28×1, which is then compressed and reconstructed, resembling an autoencoder. This allows the model to better capture global and local patterns, which is especially useful when generating complex structures such as clothing elements.\n"
      ],
      "metadata": {
        "id": "xnWnlHiAEliX"
      }
    },
    {
      "cell_type": "markdown",
      "source": [
        "#### Generator"
      ],
      "metadata": {
        "id": "7O5ZE0VOAuZS"
      }
    },
    {
      "cell_type": "code",
      "source": [
        "def GeneratorImproved():\n",
        "    model = Sequential()\n",
        "\n",
        "    # Start with a 7x7x128 tensor (like DCGAN, but with down→up)\n",
        "    model.add(Dense(7*7*128, use_bias=False, input_shape=(LATENT_DIM,)))\n",
        "    model.add(Reshape((7, 7, 128)))\n",
        "    model.add(BatchNormalization())\n",
        "    model.add(LeakyReLU())\n",
        "\n",
        "    # Downsampling (effectively works like feature convolution)\n",
        "    model.add(Conv2D(128, 3, strides=1, padding='same', use_bias=False, kernel_initializer='he_normal'))\n",
        "    model.add(BatchNormalization())\n",
        "    model.add(LeakyReLU())\n",
        "\n",
        "    model.add(Conv2D(64, 3, strides=1, padding='same', use_bias=False, kernel_initializer='he_normal'))\n",
        "    model.add(BatchNormalization())\n",
        "    model.add(LeakyReLU())\n",
        "\n",
        "    # Upsampling to 14x14\n",
        "    model.add(Conv2DTranspose(64, 4, strides=2, padding='same', use_bias=False, kernel_initializer='he_normal'))\n",
        "    model.add(BatchNormalization())\n",
        "    model.add(LeakyReLU())\n",
        "\n",
        "    # To 28x28\n",
        "    model.add(Conv2DTranspose(32, 4, strides=2, padding='same', use_bias=False, kernel_initializer='he_normal'))\n",
        "    model.add(BatchNormalization())\n",
        "    model.add(LeakyReLU())\n",
        "\n",
        "    # Output layer: 28x28x1\n",
        "    model.add(Conv2DTranspose(1, 3, strides=1, padding='same', activation='tanh'))\n",
        "\n",
        "    return model"
      ],
      "metadata": {
        "id": "KX5TxHbxAK-F"
      },
      "execution_count": 12,
      "outputs": []
    },
    {
      "cell_type": "markdown",
      "source": [
        "In the convolutions, we use weight initialization `kernel_initializer='he_normal'` and do not use biases (`use_bias=False`). This weight initialization is standard for computer vision tasks: the weights are initialized with values close to zero and normally distributed. For details, refer to the original [paper](https://arxiv.org/pdf/1502.01852).\n",
        "\n",
        "Note that `he_normal` is a compound name for the initializer: `He` is the surname of the author, and `normal` indicates the normal distribution.\n"
      ],
      "metadata": {
        "id": "sbT9G7KQAo73"
      }
    },
    {
      "cell_type": "code",
      "source": [
        "generator_improved = GeneratorImproved()\n",
        "generator_improved.summary()"
      ],
      "metadata": {
        "colab": {
          "base_uri": "https://localhost:8080/",
          "height": 826
        },
        "id": "BBfUC0I2AmSf",
        "outputId": "b4bc9d1d-7299-492d-8044-8ab7701c6596"
      },
      "execution_count": 13,
      "outputs": [
        {
          "output_type": "display_data",
          "data": {
            "text/plain": [
              "\u001b[1mModel: \"sequential_2\"\u001b[0m\n"
            ],
            "text/html": [
              "<pre style=\"white-space:pre;overflow-x:auto;line-height:normal;font-family:Menlo,'DejaVu Sans Mono',consolas,'Courier New',monospace\"><span style=\"font-weight: bold\">Model: \"sequential_2\"</span>\n",
              "</pre>\n"
            ]
          },
          "metadata": {}
        },
        {
          "output_type": "display_data",
          "data": {
            "text/plain": [
              "┏━━━━━━━━━━━━━━━━━━━━━━━━━━━━━━━━━┳━━━━━━━━━━━━━━━━━━━━━━━━┳━━━━━━━━━━━━━━━┓\n",
              "┃\u001b[1m \u001b[0m\u001b[1mLayer (type)                   \u001b[0m\u001b[1m \u001b[0m┃\u001b[1m \u001b[0m\u001b[1mOutput Shape          \u001b[0m\u001b[1m \u001b[0m┃\u001b[1m \u001b[0m\u001b[1m      Param #\u001b[0m\u001b[1m \u001b[0m┃\n",
              "┡━━━━━━━━━━━━━━━━━━━━━━━━━━━━━━━━━╇━━━━━━━━━━━━━━━━━━━━━━━━╇━━━━━━━━━━━━━━━┩\n",
              "│ dense_2 (\u001b[38;5;33mDense\u001b[0m)                 │ (\u001b[38;5;45mNone\u001b[0m, \u001b[38;5;34m6272\u001b[0m)           │       \u001b[38;5;34m627,200\u001b[0m │\n",
              "├─────────────────────────────────┼────────────────────────┼───────────────┤\n",
              "│ reshape_1 (\u001b[38;5;33mReshape\u001b[0m)             │ (\u001b[38;5;45mNone\u001b[0m, \u001b[38;5;34m7\u001b[0m, \u001b[38;5;34m7\u001b[0m, \u001b[38;5;34m128\u001b[0m)      │             \u001b[38;5;34m0\u001b[0m │\n",
              "├─────────────────────────────────┼────────────────────────┼───────────────┤\n",
              "│ batch_normalization_2           │ (\u001b[38;5;45mNone\u001b[0m, \u001b[38;5;34m7\u001b[0m, \u001b[38;5;34m7\u001b[0m, \u001b[38;5;34m128\u001b[0m)      │           \u001b[38;5;34m512\u001b[0m │\n",
              "│ (\u001b[38;5;33mBatchNormalization\u001b[0m)            │                        │               │\n",
              "├─────────────────────────────────┼────────────────────────┼───────────────┤\n",
              "│ leaky_re_lu_2 (\u001b[38;5;33mLeakyReLU\u001b[0m)       │ (\u001b[38;5;45mNone\u001b[0m, \u001b[38;5;34m7\u001b[0m, \u001b[38;5;34m7\u001b[0m, \u001b[38;5;34m128\u001b[0m)      │             \u001b[38;5;34m0\u001b[0m │\n",
              "├─────────────────────────────────┼────────────────────────┼───────────────┤\n",
              "│ conv2d_2 (\u001b[38;5;33mConv2D\u001b[0m)               │ (\u001b[38;5;45mNone\u001b[0m, \u001b[38;5;34m7\u001b[0m, \u001b[38;5;34m7\u001b[0m, \u001b[38;5;34m128\u001b[0m)      │       \u001b[38;5;34m147,456\u001b[0m │\n",
              "├─────────────────────────────────┼────────────────────────┼───────────────┤\n",
              "│ batch_normalization_3           │ (\u001b[38;5;45mNone\u001b[0m, \u001b[38;5;34m7\u001b[0m, \u001b[38;5;34m7\u001b[0m, \u001b[38;5;34m128\u001b[0m)      │           \u001b[38;5;34m512\u001b[0m │\n",
              "│ (\u001b[38;5;33mBatchNormalization\u001b[0m)            │                        │               │\n",
              "├─────────────────────────────────┼────────────────────────┼───────────────┤\n",
              "│ leaky_re_lu_3 (\u001b[38;5;33mLeakyReLU\u001b[0m)       │ (\u001b[38;5;45mNone\u001b[0m, \u001b[38;5;34m7\u001b[0m, \u001b[38;5;34m7\u001b[0m, \u001b[38;5;34m128\u001b[0m)      │             \u001b[38;5;34m0\u001b[0m │\n",
              "├─────────────────────────────────┼────────────────────────┼───────────────┤\n",
              "│ conv2d_3 (\u001b[38;5;33mConv2D\u001b[0m)               │ (\u001b[38;5;45mNone\u001b[0m, \u001b[38;5;34m7\u001b[0m, \u001b[38;5;34m7\u001b[0m, \u001b[38;5;34m64\u001b[0m)       │        \u001b[38;5;34m73,728\u001b[0m │\n",
              "├─────────────────────────────────┼────────────────────────┼───────────────┤\n",
              "│ batch_normalization_4           │ (\u001b[38;5;45mNone\u001b[0m, \u001b[38;5;34m7\u001b[0m, \u001b[38;5;34m7\u001b[0m, \u001b[38;5;34m64\u001b[0m)       │           \u001b[38;5;34m256\u001b[0m │\n",
              "│ (\u001b[38;5;33mBatchNormalization\u001b[0m)            │                        │               │\n",
              "├─────────────────────────────────┼────────────────────────┼───────────────┤\n",
              "│ leaky_re_lu_4 (\u001b[38;5;33mLeakyReLU\u001b[0m)       │ (\u001b[38;5;45mNone\u001b[0m, \u001b[38;5;34m7\u001b[0m, \u001b[38;5;34m7\u001b[0m, \u001b[38;5;34m64\u001b[0m)       │             \u001b[38;5;34m0\u001b[0m │\n",
              "├─────────────────────────────────┼────────────────────────┼───────────────┤\n",
              "│ conv2d_transpose_2              │ (\u001b[38;5;45mNone\u001b[0m, \u001b[38;5;34m14\u001b[0m, \u001b[38;5;34m14\u001b[0m, \u001b[38;5;34m64\u001b[0m)     │        \u001b[38;5;34m65,536\u001b[0m │\n",
              "│ (\u001b[38;5;33mConv2DTranspose\u001b[0m)               │                        │               │\n",
              "├─────────────────────────────────┼────────────────────────┼───────────────┤\n",
              "│ batch_normalization_5           │ (\u001b[38;5;45mNone\u001b[0m, \u001b[38;5;34m14\u001b[0m, \u001b[38;5;34m14\u001b[0m, \u001b[38;5;34m64\u001b[0m)     │           \u001b[38;5;34m256\u001b[0m │\n",
              "│ (\u001b[38;5;33mBatchNormalization\u001b[0m)            │                        │               │\n",
              "├─────────────────────────────────┼────────────────────────┼───────────────┤\n",
              "│ leaky_re_lu_5 (\u001b[38;5;33mLeakyReLU\u001b[0m)       │ (\u001b[38;5;45mNone\u001b[0m, \u001b[38;5;34m14\u001b[0m, \u001b[38;5;34m14\u001b[0m, \u001b[38;5;34m64\u001b[0m)     │             \u001b[38;5;34m0\u001b[0m │\n",
              "├─────────────────────────────────┼────────────────────────┼───────────────┤\n",
              "│ conv2d_transpose_3              │ (\u001b[38;5;45mNone\u001b[0m, \u001b[38;5;34m28\u001b[0m, \u001b[38;5;34m28\u001b[0m, \u001b[38;5;34m32\u001b[0m)     │        \u001b[38;5;34m32,768\u001b[0m │\n",
              "│ (\u001b[38;5;33mConv2DTranspose\u001b[0m)               │                        │               │\n",
              "├─────────────────────────────────┼────────────────────────┼───────────────┤\n",
              "│ batch_normalization_6           │ (\u001b[38;5;45mNone\u001b[0m, \u001b[38;5;34m28\u001b[0m, \u001b[38;5;34m28\u001b[0m, \u001b[38;5;34m32\u001b[0m)     │           \u001b[38;5;34m128\u001b[0m │\n",
              "│ (\u001b[38;5;33mBatchNormalization\u001b[0m)            │                        │               │\n",
              "├─────────────────────────────────┼────────────────────────┼───────────────┤\n",
              "│ leaky_re_lu_6 (\u001b[38;5;33mLeakyReLU\u001b[0m)       │ (\u001b[38;5;45mNone\u001b[0m, \u001b[38;5;34m28\u001b[0m, \u001b[38;5;34m28\u001b[0m, \u001b[38;5;34m32\u001b[0m)     │             \u001b[38;5;34m0\u001b[0m │\n",
              "├─────────────────────────────────┼────────────────────────┼───────────────┤\n",
              "│ conv2d_transpose_4              │ (\u001b[38;5;45mNone\u001b[0m, \u001b[38;5;34m28\u001b[0m, \u001b[38;5;34m28\u001b[0m, \u001b[38;5;34m1\u001b[0m)      │           \u001b[38;5;34m289\u001b[0m │\n",
              "│ (\u001b[38;5;33mConv2DTranspose\u001b[0m)               │                        │               │\n",
              "└─────────────────────────────────┴────────────────────────┴───────────────┘\n"
            ],
            "text/html": [
              "<pre style=\"white-space:pre;overflow-x:auto;line-height:normal;font-family:Menlo,'DejaVu Sans Mono',consolas,'Courier New',monospace\">┏━━━━━━━━━━━━━━━━━━━━━━━━━━━━━━━━━┳━━━━━━━━━━━━━━━━━━━━━━━━┳━━━━━━━━━━━━━━━┓\n",
              "┃<span style=\"font-weight: bold\"> Layer (type)                    </span>┃<span style=\"font-weight: bold\"> Output Shape           </span>┃<span style=\"font-weight: bold\">       Param # </span>┃\n",
              "┡━━━━━━━━━━━━━━━━━━━━━━━━━━━━━━━━━╇━━━━━━━━━━━━━━━━━━━━━━━━╇━━━━━━━━━━━━━━━┩\n",
              "│ dense_2 (<span style=\"color: #0087ff; text-decoration-color: #0087ff\">Dense</span>)                 │ (<span style=\"color: #00d7ff; text-decoration-color: #00d7ff\">None</span>, <span style=\"color: #00af00; text-decoration-color: #00af00\">6272</span>)           │       <span style=\"color: #00af00; text-decoration-color: #00af00\">627,200</span> │\n",
              "├─────────────────────────────────┼────────────────────────┼───────────────┤\n",
              "│ reshape_1 (<span style=\"color: #0087ff; text-decoration-color: #0087ff\">Reshape</span>)             │ (<span style=\"color: #00d7ff; text-decoration-color: #00d7ff\">None</span>, <span style=\"color: #00af00; text-decoration-color: #00af00\">7</span>, <span style=\"color: #00af00; text-decoration-color: #00af00\">7</span>, <span style=\"color: #00af00; text-decoration-color: #00af00\">128</span>)      │             <span style=\"color: #00af00; text-decoration-color: #00af00\">0</span> │\n",
              "├─────────────────────────────────┼────────────────────────┼───────────────┤\n",
              "│ batch_normalization_2           │ (<span style=\"color: #00d7ff; text-decoration-color: #00d7ff\">None</span>, <span style=\"color: #00af00; text-decoration-color: #00af00\">7</span>, <span style=\"color: #00af00; text-decoration-color: #00af00\">7</span>, <span style=\"color: #00af00; text-decoration-color: #00af00\">128</span>)      │           <span style=\"color: #00af00; text-decoration-color: #00af00\">512</span> │\n",
              "│ (<span style=\"color: #0087ff; text-decoration-color: #0087ff\">BatchNormalization</span>)            │                        │               │\n",
              "├─────────────────────────────────┼────────────────────────┼───────────────┤\n",
              "│ leaky_re_lu_2 (<span style=\"color: #0087ff; text-decoration-color: #0087ff\">LeakyReLU</span>)       │ (<span style=\"color: #00d7ff; text-decoration-color: #00d7ff\">None</span>, <span style=\"color: #00af00; text-decoration-color: #00af00\">7</span>, <span style=\"color: #00af00; text-decoration-color: #00af00\">7</span>, <span style=\"color: #00af00; text-decoration-color: #00af00\">128</span>)      │             <span style=\"color: #00af00; text-decoration-color: #00af00\">0</span> │\n",
              "├─────────────────────────────────┼────────────────────────┼───────────────┤\n",
              "│ conv2d_2 (<span style=\"color: #0087ff; text-decoration-color: #0087ff\">Conv2D</span>)               │ (<span style=\"color: #00d7ff; text-decoration-color: #00d7ff\">None</span>, <span style=\"color: #00af00; text-decoration-color: #00af00\">7</span>, <span style=\"color: #00af00; text-decoration-color: #00af00\">7</span>, <span style=\"color: #00af00; text-decoration-color: #00af00\">128</span>)      │       <span style=\"color: #00af00; text-decoration-color: #00af00\">147,456</span> │\n",
              "├─────────────────────────────────┼────────────────────────┼───────────────┤\n",
              "│ batch_normalization_3           │ (<span style=\"color: #00d7ff; text-decoration-color: #00d7ff\">None</span>, <span style=\"color: #00af00; text-decoration-color: #00af00\">7</span>, <span style=\"color: #00af00; text-decoration-color: #00af00\">7</span>, <span style=\"color: #00af00; text-decoration-color: #00af00\">128</span>)      │           <span style=\"color: #00af00; text-decoration-color: #00af00\">512</span> │\n",
              "│ (<span style=\"color: #0087ff; text-decoration-color: #0087ff\">BatchNormalization</span>)            │                        │               │\n",
              "├─────────────────────────────────┼────────────────────────┼───────────────┤\n",
              "│ leaky_re_lu_3 (<span style=\"color: #0087ff; text-decoration-color: #0087ff\">LeakyReLU</span>)       │ (<span style=\"color: #00d7ff; text-decoration-color: #00d7ff\">None</span>, <span style=\"color: #00af00; text-decoration-color: #00af00\">7</span>, <span style=\"color: #00af00; text-decoration-color: #00af00\">7</span>, <span style=\"color: #00af00; text-decoration-color: #00af00\">128</span>)      │             <span style=\"color: #00af00; text-decoration-color: #00af00\">0</span> │\n",
              "├─────────────────────────────────┼────────────────────────┼───────────────┤\n",
              "│ conv2d_3 (<span style=\"color: #0087ff; text-decoration-color: #0087ff\">Conv2D</span>)               │ (<span style=\"color: #00d7ff; text-decoration-color: #00d7ff\">None</span>, <span style=\"color: #00af00; text-decoration-color: #00af00\">7</span>, <span style=\"color: #00af00; text-decoration-color: #00af00\">7</span>, <span style=\"color: #00af00; text-decoration-color: #00af00\">64</span>)       │        <span style=\"color: #00af00; text-decoration-color: #00af00\">73,728</span> │\n",
              "├─────────────────────────────────┼────────────────────────┼───────────────┤\n",
              "│ batch_normalization_4           │ (<span style=\"color: #00d7ff; text-decoration-color: #00d7ff\">None</span>, <span style=\"color: #00af00; text-decoration-color: #00af00\">7</span>, <span style=\"color: #00af00; text-decoration-color: #00af00\">7</span>, <span style=\"color: #00af00; text-decoration-color: #00af00\">64</span>)       │           <span style=\"color: #00af00; text-decoration-color: #00af00\">256</span> │\n",
              "│ (<span style=\"color: #0087ff; text-decoration-color: #0087ff\">BatchNormalization</span>)            │                        │               │\n",
              "├─────────────────────────────────┼────────────────────────┼───────────────┤\n",
              "│ leaky_re_lu_4 (<span style=\"color: #0087ff; text-decoration-color: #0087ff\">LeakyReLU</span>)       │ (<span style=\"color: #00d7ff; text-decoration-color: #00d7ff\">None</span>, <span style=\"color: #00af00; text-decoration-color: #00af00\">7</span>, <span style=\"color: #00af00; text-decoration-color: #00af00\">7</span>, <span style=\"color: #00af00; text-decoration-color: #00af00\">64</span>)       │             <span style=\"color: #00af00; text-decoration-color: #00af00\">0</span> │\n",
              "├─────────────────────────────────┼────────────────────────┼───────────────┤\n",
              "│ conv2d_transpose_2              │ (<span style=\"color: #00d7ff; text-decoration-color: #00d7ff\">None</span>, <span style=\"color: #00af00; text-decoration-color: #00af00\">14</span>, <span style=\"color: #00af00; text-decoration-color: #00af00\">14</span>, <span style=\"color: #00af00; text-decoration-color: #00af00\">64</span>)     │        <span style=\"color: #00af00; text-decoration-color: #00af00\">65,536</span> │\n",
              "│ (<span style=\"color: #0087ff; text-decoration-color: #0087ff\">Conv2DTranspose</span>)               │                        │               │\n",
              "├─────────────────────────────────┼────────────────────────┼───────────────┤\n",
              "│ batch_normalization_5           │ (<span style=\"color: #00d7ff; text-decoration-color: #00d7ff\">None</span>, <span style=\"color: #00af00; text-decoration-color: #00af00\">14</span>, <span style=\"color: #00af00; text-decoration-color: #00af00\">14</span>, <span style=\"color: #00af00; text-decoration-color: #00af00\">64</span>)     │           <span style=\"color: #00af00; text-decoration-color: #00af00\">256</span> │\n",
              "│ (<span style=\"color: #0087ff; text-decoration-color: #0087ff\">BatchNormalization</span>)            │                        │               │\n",
              "├─────────────────────────────────┼────────────────────────┼───────────────┤\n",
              "│ leaky_re_lu_5 (<span style=\"color: #0087ff; text-decoration-color: #0087ff\">LeakyReLU</span>)       │ (<span style=\"color: #00d7ff; text-decoration-color: #00d7ff\">None</span>, <span style=\"color: #00af00; text-decoration-color: #00af00\">14</span>, <span style=\"color: #00af00; text-decoration-color: #00af00\">14</span>, <span style=\"color: #00af00; text-decoration-color: #00af00\">64</span>)     │             <span style=\"color: #00af00; text-decoration-color: #00af00\">0</span> │\n",
              "├─────────────────────────────────┼────────────────────────┼───────────────┤\n",
              "│ conv2d_transpose_3              │ (<span style=\"color: #00d7ff; text-decoration-color: #00d7ff\">None</span>, <span style=\"color: #00af00; text-decoration-color: #00af00\">28</span>, <span style=\"color: #00af00; text-decoration-color: #00af00\">28</span>, <span style=\"color: #00af00; text-decoration-color: #00af00\">32</span>)     │        <span style=\"color: #00af00; text-decoration-color: #00af00\">32,768</span> │\n",
              "│ (<span style=\"color: #0087ff; text-decoration-color: #0087ff\">Conv2DTranspose</span>)               │                        │               │\n",
              "├─────────────────────────────────┼────────────────────────┼───────────────┤\n",
              "│ batch_normalization_6           │ (<span style=\"color: #00d7ff; text-decoration-color: #00d7ff\">None</span>, <span style=\"color: #00af00; text-decoration-color: #00af00\">28</span>, <span style=\"color: #00af00; text-decoration-color: #00af00\">28</span>, <span style=\"color: #00af00; text-decoration-color: #00af00\">32</span>)     │           <span style=\"color: #00af00; text-decoration-color: #00af00\">128</span> │\n",
              "│ (<span style=\"color: #0087ff; text-decoration-color: #0087ff\">BatchNormalization</span>)            │                        │               │\n",
              "├─────────────────────────────────┼────────────────────────┼───────────────┤\n",
              "│ leaky_re_lu_6 (<span style=\"color: #0087ff; text-decoration-color: #0087ff\">LeakyReLU</span>)       │ (<span style=\"color: #00d7ff; text-decoration-color: #00d7ff\">None</span>, <span style=\"color: #00af00; text-decoration-color: #00af00\">28</span>, <span style=\"color: #00af00; text-decoration-color: #00af00\">28</span>, <span style=\"color: #00af00; text-decoration-color: #00af00\">32</span>)     │             <span style=\"color: #00af00; text-decoration-color: #00af00\">0</span> │\n",
              "├─────────────────────────────────┼────────────────────────┼───────────────┤\n",
              "│ conv2d_transpose_4              │ (<span style=\"color: #00d7ff; text-decoration-color: #00d7ff\">None</span>, <span style=\"color: #00af00; text-decoration-color: #00af00\">28</span>, <span style=\"color: #00af00; text-decoration-color: #00af00\">28</span>, <span style=\"color: #00af00; text-decoration-color: #00af00\">1</span>)      │           <span style=\"color: #00af00; text-decoration-color: #00af00\">289</span> │\n",
              "│ (<span style=\"color: #0087ff; text-decoration-color: #0087ff\">Conv2DTranspose</span>)               │                        │               │\n",
              "└─────────────────────────────────┴────────────────────────┴───────────────┘\n",
              "</pre>\n"
            ]
          },
          "metadata": {}
        },
        {
          "output_type": "display_data",
          "data": {
            "text/plain": [
              "\u001b[1m Total params: \u001b[0m\u001b[38;5;34m948,641\u001b[0m (3.62 MB)\n"
            ],
            "text/html": [
              "<pre style=\"white-space:pre;overflow-x:auto;line-height:normal;font-family:Menlo,'DejaVu Sans Mono',consolas,'Courier New',monospace\"><span style=\"font-weight: bold\"> Total params: </span><span style=\"color: #00af00; text-decoration-color: #00af00\">948,641</span> (3.62 MB)\n",
              "</pre>\n"
            ]
          },
          "metadata": {}
        },
        {
          "output_type": "display_data",
          "data": {
            "text/plain": [
              "\u001b[1m Trainable params: \u001b[0m\u001b[38;5;34m947,809\u001b[0m (3.62 MB)\n"
            ],
            "text/html": [
              "<pre style=\"white-space:pre;overflow-x:auto;line-height:normal;font-family:Menlo,'DejaVu Sans Mono',consolas,'Courier New',monospace\"><span style=\"font-weight: bold\"> Trainable params: </span><span style=\"color: #00af00; text-decoration-color: #00af00\">947,809</span> (3.62 MB)\n",
              "</pre>\n"
            ]
          },
          "metadata": {}
        },
        {
          "output_type": "display_data",
          "data": {
            "text/plain": [
              "\u001b[1m Non-trainable params: \u001b[0m\u001b[38;5;34m832\u001b[0m (3.25 KB)\n"
            ],
            "text/html": [
              "<pre style=\"white-space:pre;overflow-x:auto;line-height:normal;font-family:Menlo,'DejaVu Sans Mono',consolas,'Courier New',monospace\"><span style=\"font-weight: bold\"> Non-trainable params: </span><span style=\"color: #00af00; text-decoration-color: #00af00\">832</span> (3.25 KB)\n",
              "</pre>\n"
            ]
          },
          "metadata": {}
        }
      ]
    },
    {
      "cell_type": "markdown",
      "source": [
        "#### Discriminator"
      ],
      "metadata": {
        "id": "UreBjBJdAwuK"
      }
    },
    {
      "cell_type": "markdown",
      "source": [
        "The discriminator model takes images of size 28 by 28 by 1, which can be either real or generated. The input image undergoes downsampling using a `Conv2D` layer and is finally flattened with a `Flatten` layer and passed to a single neuron to distinguish between real and fake images. Since the last layer uses a sigmoid activation function, it outputs a value in the range from 0 to 1. Here, a value greater than 0.5 indicates a real image, while a value less than 0.5 indicates a fake one. The discriminator’s output is also used during the training of the generator."
      ],
      "metadata": {
        "id": "W8jMQb5FAz98"
      }
    },
    {
      "cell_type": "code",
      "source": [
        "def DiscriminatorImproved():\n",
        "    model = Sequential()\n",
        "\n",
        "    # 28x28x1 → 14x14x64\n",
        "    model.add(Conv2D(64, 4, strides=2, padding='same', input_shape=(28, 28, 1),\n",
        "                     kernel_initializer='he_normal', use_bias=False))\n",
        "    model.add(BatchNormalization())\n",
        "    model.add(LeakyReLU(0.2))\n",
        "\n",
        "    # 14x14x64 → 7x7x128\n",
        "    model.add(Conv2D(128, 4, strides=2, padding='same', kernel_initializer='he_normal', use_bias=False))\n",
        "    model.add(BatchNormalization())\n",
        "    model.add(LeakyReLU(0.2))\n",
        "\n",
        "    # 7x7x128 → 4x4x256\n",
        "    model.add(Conv2D(256, 4, strides=1, padding='same', kernel_initializer='he_normal', use_bias=False))\n",
        "    model.add(BatchNormalization())\n",
        "    model.add(LeakyReLU(0.2))\n",
        "\n",
        "    # Flatten and output\n",
        "    model.add(Flatten())\n",
        "    model.add(Dense(1, activation='sigmoid'))\n",
        "\n",
        "    return model"
      ],
      "metadata": {
        "id": "IHW8WbQ9A229"
      },
      "execution_count": 14,
      "outputs": []
    },
    {
      "cell_type": "code",
      "source": [
        "discriminator_improved = DiscriminatorImproved()\n",
        "discriminator_improved.summary()"
      ],
      "metadata": {
        "colab": {
          "base_uri": "https://localhost:8080/",
          "height": 545
        },
        "id": "Vun_T8AzA6VW",
        "outputId": "4ae5be01-3955-4ea0-9bf3-467ab7be76a6"
      },
      "execution_count": 15,
      "outputs": [
        {
          "output_type": "display_data",
          "data": {
            "text/plain": [
              "\u001b[1mModel: \"sequential_3\"\u001b[0m\n"
            ],
            "text/html": [
              "<pre style=\"white-space:pre;overflow-x:auto;line-height:normal;font-family:Menlo,'DejaVu Sans Mono',consolas,'Courier New',monospace\"><span style=\"font-weight: bold\">Model: \"sequential_3\"</span>\n",
              "</pre>\n"
            ]
          },
          "metadata": {}
        },
        {
          "output_type": "display_data",
          "data": {
            "text/plain": [
              "┏━━━━━━━━━━━━━━━━━━━━━━━━━━━━━━━━━┳━━━━━━━━━━━━━━━━━━━━━━━━┳━━━━━━━━━━━━━━━┓\n",
              "┃\u001b[1m \u001b[0m\u001b[1mLayer (type)                   \u001b[0m\u001b[1m \u001b[0m┃\u001b[1m \u001b[0m\u001b[1mOutput Shape          \u001b[0m\u001b[1m \u001b[0m┃\u001b[1m \u001b[0m\u001b[1m      Param #\u001b[0m\u001b[1m \u001b[0m┃\n",
              "┡━━━━━━━━━━━━━━━━━━━━━━━━━━━━━━━━━╇━━━━━━━━━━━━━━━━━━━━━━━━╇━━━━━━━━━━━━━━━┩\n",
              "│ conv2d_4 (\u001b[38;5;33mConv2D\u001b[0m)               │ (\u001b[38;5;45mNone\u001b[0m, \u001b[38;5;34m14\u001b[0m, \u001b[38;5;34m14\u001b[0m, \u001b[38;5;34m64\u001b[0m)     │         \u001b[38;5;34m1,024\u001b[0m │\n",
              "├─────────────────────────────────┼────────────────────────┼───────────────┤\n",
              "│ batch_normalization_7           │ (\u001b[38;5;45mNone\u001b[0m, \u001b[38;5;34m14\u001b[0m, \u001b[38;5;34m14\u001b[0m, \u001b[38;5;34m64\u001b[0m)     │           \u001b[38;5;34m256\u001b[0m │\n",
              "│ (\u001b[38;5;33mBatchNormalization\u001b[0m)            │                        │               │\n",
              "├─────────────────────────────────┼────────────────────────┼───────────────┤\n",
              "│ leaky_re_lu_7 (\u001b[38;5;33mLeakyReLU\u001b[0m)       │ (\u001b[38;5;45mNone\u001b[0m, \u001b[38;5;34m14\u001b[0m, \u001b[38;5;34m14\u001b[0m, \u001b[38;5;34m64\u001b[0m)     │             \u001b[38;5;34m0\u001b[0m │\n",
              "├─────────────────────────────────┼────────────────────────┼───────────────┤\n",
              "│ conv2d_5 (\u001b[38;5;33mConv2D\u001b[0m)               │ (\u001b[38;5;45mNone\u001b[0m, \u001b[38;5;34m7\u001b[0m, \u001b[38;5;34m7\u001b[0m, \u001b[38;5;34m128\u001b[0m)      │       \u001b[38;5;34m131,072\u001b[0m │\n",
              "├─────────────────────────────────┼────────────────────────┼───────────────┤\n",
              "│ batch_normalization_8           │ (\u001b[38;5;45mNone\u001b[0m, \u001b[38;5;34m7\u001b[0m, \u001b[38;5;34m7\u001b[0m, \u001b[38;5;34m128\u001b[0m)      │           \u001b[38;5;34m512\u001b[0m │\n",
              "│ (\u001b[38;5;33mBatchNormalization\u001b[0m)            │                        │               │\n",
              "├─────────────────────────────────┼────────────────────────┼───────────────┤\n",
              "│ leaky_re_lu_8 (\u001b[38;5;33mLeakyReLU\u001b[0m)       │ (\u001b[38;5;45mNone\u001b[0m, \u001b[38;5;34m7\u001b[0m, \u001b[38;5;34m7\u001b[0m, \u001b[38;5;34m128\u001b[0m)      │             \u001b[38;5;34m0\u001b[0m │\n",
              "├─────────────────────────────────┼────────────────────────┼───────────────┤\n",
              "│ conv2d_6 (\u001b[38;5;33mConv2D\u001b[0m)               │ (\u001b[38;5;45mNone\u001b[0m, \u001b[38;5;34m7\u001b[0m, \u001b[38;5;34m7\u001b[0m, \u001b[38;5;34m256\u001b[0m)      │       \u001b[38;5;34m524,288\u001b[0m │\n",
              "├─────────────────────────────────┼────────────────────────┼───────────────┤\n",
              "│ batch_normalization_9           │ (\u001b[38;5;45mNone\u001b[0m, \u001b[38;5;34m7\u001b[0m, \u001b[38;5;34m7\u001b[0m, \u001b[38;5;34m256\u001b[0m)      │         \u001b[38;5;34m1,024\u001b[0m │\n",
              "│ (\u001b[38;5;33mBatchNormalization\u001b[0m)            │                        │               │\n",
              "├─────────────────────────────────┼────────────────────────┼───────────────┤\n",
              "│ leaky_re_lu_9 (\u001b[38;5;33mLeakyReLU\u001b[0m)       │ (\u001b[38;5;45mNone\u001b[0m, \u001b[38;5;34m7\u001b[0m, \u001b[38;5;34m7\u001b[0m, \u001b[38;5;34m256\u001b[0m)      │             \u001b[38;5;34m0\u001b[0m │\n",
              "├─────────────────────────────────┼────────────────────────┼───────────────┤\n",
              "│ flatten_1 (\u001b[38;5;33mFlatten\u001b[0m)             │ (\u001b[38;5;45mNone\u001b[0m, \u001b[38;5;34m12544\u001b[0m)          │             \u001b[38;5;34m0\u001b[0m │\n",
              "├─────────────────────────────────┼────────────────────────┼───────────────┤\n",
              "│ dense_3 (\u001b[38;5;33mDense\u001b[0m)                 │ (\u001b[38;5;45mNone\u001b[0m, \u001b[38;5;34m1\u001b[0m)              │        \u001b[38;5;34m12,545\u001b[0m │\n",
              "└─────────────────────────────────┴────────────────────────┴───────────────┘\n"
            ],
            "text/html": [
              "<pre style=\"white-space:pre;overflow-x:auto;line-height:normal;font-family:Menlo,'DejaVu Sans Mono',consolas,'Courier New',monospace\">┏━━━━━━━━━━━━━━━━━━━━━━━━━━━━━━━━━┳━━━━━━━━━━━━━━━━━━━━━━━━┳━━━━━━━━━━━━━━━┓\n",
              "┃<span style=\"font-weight: bold\"> Layer (type)                    </span>┃<span style=\"font-weight: bold\"> Output Shape           </span>┃<span style=\"font-weight: bold\">       Param # </span>┃\n",
              "┡━━━━━━━━━━━━━━━━━━━━━━━━━━━━━━━━━╇━━━━━━━━━━━━━━━━━━━━━━━━╇━━━━━━━━━━━━━━━┩\n",
              "│ conv2d_4 (<span style=\"color: #0087ff; text-decoration-color: #0087ff\">Conv2D</span>)               │ (<span style=\"color: #00d7ff; text-decoration-color: #00d7ff\">None</span>, <span style=\"color: #00af00; text-decoration-color: #00af00\">14</span>, <span style=\"color: #00af00; text-decoration-color: #00af00\">14</span>, <span style=\"color: #00af00; text-decoration-color: #00af00\">64</span>)     │         <span style=\"color: #00af00; text-decoration-color: #00af00\">1,024</span> │\n",
              "├─────────────────────────────────┼────────────────────────┼───────────────┤\n",
              "│ batch_normalization_7           │ (<span style=\"color: #00d7ff; text-decoration-color: #00d7ff\">None</span>, <span style=\"color: #00af00; text-decoration-color: #00af00\">14</span>, <span style=\"color: #00af00; text-decoration-color: #00af00\">14</span>, <span style=\"color: #00af00; text-decoration-color: #00af00\">64</span>)     │           <span style=\"color: #00af00; text-decoration-color: #00af00\">256</span> │\n",
              "│ (<span style=\"color: #0087ff; text-decoration-color: #0087ff\">BatchNormalization</span>)            │                        │               │\n",
              "├─────────────────────────────────┼────────────────────────┼───────────────┤\n",
              "│ leaky_re_lu_7 (<span style=\"color: #0087ff; text-decoration-color: #0087ff\">LeakyReLU</span>)       │ (<span style=\"color: #00d7ff; text-decoration-color: #00d7ff\">None</span>, <span style=\"color: #00af00; text-decoration-color: #00af00\">14</span>, <span style=\"color: #00af00; text-decoration-color: #00af00\">14</span>, <span style=\"color: #00af00; text-decoration-color: #00af00\">64</span>)     │             <span style=\"color: #00af00; text-decoration-color: #00af00\">0</span> │\n",
              "├─────────────────────────────────┼────────────────────────┼───────────────┤\n",
              "│ conv2d_5 (<span style=\"color: #0087ff; text-decoration-color: #0087ff\">Conv2D</span>)               │ (<span style=\"color: #00d7ff; text-decoration-color: #00d7ff\">None</span>, <span style=\"color: #00af00; text-decoration-color: #00af00\">7</span>, <span style=\"color: #00af00; text-decoration-color: #00af00\">7</span>, <span style=\"color: #00af00; text-decoration-color: #00af00\">128</span>)      │       <span style=\"color: #00af00; text-decoration-color: #00af00\">131,072</span> │\n",
              "├─────────────────────────────────┼────────────────────────┼───────────────┤\n",
              "│ batch_normalization_8           │ (<span style=\"color: #00d7ff; text-decoration-color: #00d7ff\">None</span>, <span style=\"color: #00af00; text-decoration-color: #00af00\">7</span>, <span style=\"color: #00af00; text-decoration-color: #00af00\">7</span>, <span style=\"color: #00af00; text-decoration-color: #00af00\">128</span>)      │           <span style=\"color: #00af00; text-decoration-color: #00af00\">512</span> │\n",
              "│ (<span style=\"color: #0087ff; text-decoration-color: #0087ff\">BatchNormalization</span>)            │                        │               │\n",
              "├─────────────────────────────────┼────────────────────────┼───────────────┤\n",
              "│ leaky_re_lu_8 (<span style=\"color: #0087ff; text-decoration-color: #0087ff\">LeakyReLU</span>)       │ (<span style=\"color: #00d7ff; text-decoration-color: #00d7ff\">None</span>, <span style=\"color: #00af00; text-decoration-color: #00af00\">7</span>, <span style=\"color: #00af00; text-decoration-color: #00af00\">7</span>, <span style=\"color: #00af00; text-decoration-color: #00af00\">128</span>)      │             <span style=\"color: #00af00; text-decoration-color: #00af00\">0</span> │\n",
              "├─────────────────────────────────┼────────────────────────┼───────────────┤\n",
              "│ conv2d_6 (<span style=\"color: #0087ff; text-decoration-color: #0087ff\">Conv2D</span>)               │ (<span style=\"color: #00d7ff; text-decoration-color: #00d7ff\">None</span>, <span style=\"color: #00af00; text-decoration-color: #00af00\">7</span>, <span style=\"color: #00af00; text-decoration-color: #00af00\">7</span>, <span style=\"color: #00af00; text-decoration-color: #00af00\">256</span>)      │       <span style=\"color: #00af00; text-decoration-color: #00af00\">524,288</span> │\n",
              "├─────────────────────────────────┼────────────────────────┼───────────────┤\n",
              "│ batch_normalization_9           │ (<span style=\"color: #00d7ff; text-decoration-color: #00d7ff\">None</span>, <span style=\"color: #00af00; text-decoration-color: #00af00\">7</span>, <span style=\"color: #00af00; text-decoration-color: #00af00\">7</span>, <span style=\"color: #00af00; text-decoration-color: #00af00\">256</span>)      │         <span style=\"color: #00af00; text-decoration-color: #00af00\">1,024</span> │\n",
              "│ (<span style=\"color: #0087ff; text-decoration-color: #0087ff\">BatchNormalization</span>)            │                        │               │\n",
              "├─────────────────────────────────┼────────────────────────┼───────────────┤\n",
              "│ leaky_re_lu_9 (<span style=\"color: #0087ff; text-decoration-color: #0087ff\">LeakyReLU</span>)       │ (<span style=\"color: #00d7ff; text-decoration-color: #00d7ff\">None</span>, <span style=\"color: #00af00; text-decoration-color: #00af00\">7</span>, <span style=\"color: #00af00; text-decoration-color: #00af00\">7</span>, <span style=\"color: #00af00; text-decoration-color: #00af00\">256</span>)      │             <span style=\"color: #00af00; text-decoration-color: #00af00\">0</span> │\n",
              "├─────────────────────────────────┼────────────────────────┼───────────────┤\n",
              "│ flatten_1 (<span style=\"color: #0087ff; text-decoration-color: #0087ff\">Flatten</span>)             │ (<span style=\"color: #00d7ff; text-decoration-color: #00d7ff\">None</span>, <span style=\"color: #00af00; text-decoration-color: #00af00\">12544</span>)          │             <span style=\"color: #00af00; text-decoration-color: #00af00\">0</span> │\n",
              "├─────────────────────────────────┼────────────────────────┼───────────────┤\n",
              "│ dense_3 (<span style=\"color: #0087ff; text-decoration-color: #0087ff\">Dense</span>)                 │ (<span style=\"color: #00d7ff; text-decoration-color: #00d7ff\">None</span>, <span style=\"color: #00af00; text-decoration-color: #00af00\">1</span>)              │        <span style=\"color: #00af00; text-decoration-color: #00af00\">12,545</span> │\n",
              "└─────────────────────────────────┴────────────────────────┴───────────────┘\n",
              "</pre>\n"
            ]
          },
          "metadata": {}
        },
        {
          "output_type": "display_data",
          "data": {
            "text/plain": [
              "\u001b[1m Total params: \u001b[0m\u001b[38;5;34m670,721\u001b[0m (2.56 MB)\n"
            ],
            "text/html": [
              "<pre style=\"white-space:pre;overflow-x:auto;line-height:normal;font-family:Menlo,'DejaVu Sans Mono',consolas,'Courier New',monospace\"><span style=\"font-weight: bold\"> Total params: </span><span style=\"color: #00af00; text-decoration-color: #00af00\">670,721</span> (2.56 MB)\n",
              "</pre>\n"
            ]
          },
          "metadata": {}
        },
        {
          "output_type": "display_data",
          "data": {
            "text/plain": [
              "\u001b[1m Trainable params: \u001b[0m\u001b[38;5;34m669,825\u001b[0m (2.56 MB)\n"
            ],
            "text/html": [
              "<pre style=\"white-space:pre;overflow-x:auto;line-height:normal;font-family:Menlo,'DejaVu Sans Mono',consolas,'Courier New',monospace\"><span style=\"font-weight: bold\"> Trainable params: </span><span style=\"color: #00af00; text-decoration-color: #00af00\">669,825</span> (2.56 MB)\n",
              "</pre>\n"
            ]
          },
          "metadata": {}
        },
        {
          "output_type": "display_data",
          "data": {
            "text/plain": [
              "\u001b[1m Non-trainable params: \u001b[0m\u001b[38;5;34m896\u001b[0m (3.50 KB)\n"
            ],
            "text/html": [
              "<pre style=\"white-space:pre;overflow-x:auto;line-height:normal;font-family:Menlo,'DejaVu Sans Mono',consolas,'Courier New',monospace\"><span style=\"font-weight: bold\"> Non-trainable params: </span><span style=\"color: #00af00; text-decoration-color: #00af00\">896</span> (3.50 KB)\n",
              "</pre>\n"
            ]
          },
          "metadata": {}
        }
      ]
    },
    {
      "cell_type": "markdown",
      "source": [
        "Let's plot the image generated by the generator before training."
      ],
      "metadata": {
        "id": "mnFFAPQ5A-GH"
      }
    },
    {
      "cell_type": "code",
      "source": [
        "noise = np.random.normal(-1,1,(1,LATENT_DIM))\n",
        "img = generator_improved(noise)\n",
        "plt.imshow(img[0,:,:,0], cmap=\"gray\")\n",
        "plt.show()"
      ],
      "metadata": {
        "colab": {
          "base_uri": "https://localhost:8080/",
          "height": 430
        },
        "id": "WXjaLC83BAdg",
        "outputId": "b53cd1f6-24b8-43f9-8626-6d421ea9a0a7"
      },
      "execution_count": 16,
      "outputs": [
        {
          "output_type": "display_data",
          "data": {
            "text/plain": [
              "<Figure size 640x480 with 1 Axes>"
            ],
            "image/png": "[encoded data removed]"
          },
          "metadata": {}
        }
      ]
    },
    {
      "cell_type": "markdown",
      "source": [
        "An untrained generator creates new noise from noise!"
      ],
      "metadata": {
        "id": "hqk2251CBGDC"
      }
    },
    {
      "cell_type": "markdown",
      "source": [
        "# Model training"
      ],
      "metadata": {
        "id": "Od2O4O_TE33-"
      }
    },
    {
      "cell_type": "markdown",
      "source": [
        "## Definition of loss function and optimizer"
      ],
      "metadata": {
        "id": "xbl6iroHFDMa"
      }
    },
    {
      "cell_type": "markdown",
      "source": [
        "Next, it is necessary to define the loss function and optimizers for the generator and discriminator.\n",
        "\n",
        "**IMPORTANT:** you must define separate optimizers for the generator and the discriminator. Although they are identical, using a shared optimizer will lead to an error during training.\n",
        "\n",
        "As the optimizer, we will use `Adam` with parameters `learning_rate=0.0002` and `beta_1=0.5`. As the loss function, we will use binary cross-entropy.\n"
      ],
      "metadata": {
        "id": "KC_LovFHFHDb"
      }
    },
    {
      "cell_type": "code",
      "source": [
        "optimizer_G = tf.keras.optimizers.Adam(learning_rate=0.0002, beta_1=0.5)\n",
        "optimizer_D = tf.keras.optimizers.Adam(learning_rate=0.0002, beta_1=0.5)\n",
        "\n",
        "# This creates a helper function for computing binary cross-entropy losses\n",
        "cross_entropy = tf.keras.losses.BinaryCrossentropy()"
      ],
      "metadata": {
        "id": "PCrtfu1uFKzl"
      },
      "execution_count": 17,
      "outputs": []
    },
    {
      "cell_type": "markdown",
      "source": [
        "Based on binary cross-entropy, we define a loss function for the discriminator. This function should quantify how well the discriminator is able to distinguish real images from fakes. It compares the discriminator's predictions for real images with an array of ones (of the same shape as the image), and the discriminator's predictions for fake (generated) images with an array of zeros (of the same shape as the image). The resulting comparison errors are summed up."
      ],
      "metadata": {
        "id": "ypYa7yXiFOMu"
      }
    },
    {
      "cell_type": "code",
      "source": [
        "def discriminator_loss(fake_output, real_output):\n",
        "    fake_loss = cross_entropy(tf.zeros_like(fake_output), fake_output)\n",
        "    real_loss = cross_entropy(tf.ones_like(real_output), real_output)\n",
        "    return fake_loss + real_loss"
      ],
      "metadata": {
        "id": "WUPKI-ZkFP2_"
      },
      "execution_count": 18,
      "outputs": []
    },
    {
      "cell_type": "markdown",
      "source": [
        "As for the generator's loss function, things are simpler. The generator's loss function quantifies how well it was able to fool the discriminator. Intuitively, if the generator works well, the discriminator will classify fake images as real (equal to one). Therefore, the error function for the discriminator returns the binary cross-entropy error from comparing a fake image to one (the identity matrix)."
      ],
      "metadata": {
        "id": "LfMi6vDJFSCP"
      }
    },
    {
      "cell_type": "code",
      "source": [
        "def generator_loss(fake_output):\n",
        "    return cross_entropy(tf.ones_like(fake_output), fake_output)"
      ],
      "metadata": {
        "id": "lTAId6HPFVP5"
      },
      "execution_count": 19,
      "outputs": []
    },
    {
      "cell_type": "markdown",
      "source": [
        "## Training a Classical DCGAN Model"
      ],
      "metadata": {
        "id": "A1B3QOPFFZCy"
      }
    },
    {
      "cell_type": "markdown",
      "source": [
        "We define a single training step. The training cycle begins with the generator receiving random noise as input, which is used to generate an image. The discriminator is then used to classify real images (extracted from the training set) and fake images (generated by the generator). A loss is calculated for each of these models, and the gradients are used to update the generator and discriminator."
      ],
      "metadata": {
        "id": "umpF7LBoFdZ8"
      }
    },
    {
      "cell_type": "markdown",
      "source": [
        "To train the generator and discriminator simultaneously, we need a lower-level approach for training and evaluation loops than what `fit()` and `evaluate()` provide, so we will have to write our own. Actually, this is quite straightforward! But be prepared for more debugging.\n",
        "\n",
        "Low-level training involves computing gradients, which is done using `GradientTape`.\n",
        "\n",
        "Calling the model within the scope of `GradientTape` allows us to obtain the gradients of the trainable layer weights with respect to the loss value. Using an optimizer instance, we will apply these gradients to update the model weights.\n",
        "\n",
        "We will use mini-batch gradient descent with a custom training loop. Details are provided in the comments within the code.\n"
      ],
      "metadata": {
        "id": "fZjoOk0ZFie4"
      }
    },
    {
      "cell_type": "code",
      "source": [
        "# We use the `tf.function` decorator, though it also works without it.\n",
        "# It tells TensorFlow to compile this function, optimizing the training process.\n",
        "@tf.function\n",
        "def train_steps(images):\n",
        "\n",
        "    # Generate noise as input to the generator\n",
        "    noise = np.random.normal(0, 1, (BATCH_SIZE, LATENT_DIM))\n",
        "\n",
        "    # Initialize separate GradientTapes for the discriminator and generator\n",
        "    # to record operations during the forward pass, enabling automatic differentiation.\n",
        "    with tf.GradientTape() as gen_tape, tf.GradientTape() as disc_tape:\n",
        "        # Run a forward pass of the noise through the generator.\n",
        "        # Each operation applied by a layer to its inputs is recorded on the GradientTape,\n",
        "        # similar to a tape recorder — hence the name \"gradient tape\".\n",
        "        generated_images = generator_classic(noise)\n",
        "\n",
        "        # Also run a forward pass through the discriminator\n",
        "        # for both real and fake images\n",
        "        fake_output = discriminator_classic(generated_images)\n",
        "        real_output = discriminator_classic(images)\n",
        "\n",
        "        # Compute loss functions (loss values)\n",
        "        gen_loss = generator_loss(fake_output)\n",
        "        dis_loss = discriminator_loss(fake_output, real_output)\n",
        "\n",
        "    # Use the gradient tapes to automatically compute gradients\n",
        "    # of the trainable variables with respect to the losses.\n",
        "    gradient_of_generator = gen_tape.gradient(gen_loss, generator_classic.trainable_variables)\n",
        "    gradient_of_discriminator = disc_tape.gradient(dis_loss, discriminator_classic.trainable_variables)\n",
        "\n",
        "    # Perform one step of gradient descent by updating\n",
        "    # the variables to minimize the losses.\n",
        "    optimizer_G.apply_gradients(zip(gradient_of_generator, generator_classic.trainable_variables))\n",
        "    optimizer_D.apply_gradients(zip(gradient_of_discriminator, discriminator_classic.trainable_variables))\n",
        "\n",
        "    # Return the loss values for visualization\n",
        "    loss = {\n",
        "        'gen_loss': gen_loss,\n",
        "        'disc_loss': dis_loss\n",
        "    }\n",
        "    return loss\n"
      ],
      "metadata": {
        "id": "GY9eLKzrblv3"
      },
      "execution_count": 20,
      "outputs": []
    },
    {
      "cell_type": "markdown",
      "source": [
        "Next, we will write the `train()` function, which runs the training loop for each epoch. The generator and discriminator must be trained simultaneously without overpowering each other, so it is important that they are trained at the same pace.\n"
      ],
      "metadata": {
        "id": "WKMVEkDuFrch"
      }
    },
    {
      "cell_type": "code",
      "source": [
        "import time\n",
        "\n",
        "def train(epochs, dataset):\n",
        "    D_loss = []  # list to collect discriminator loss values\n",
        "    G_loss = []  # list to collect generator loss values\n",
        "    for epoch in range(epochs):\n",
        "        start = time.time()\n",
        "        print(\"\\nEpoch: {}\".format(epoch + 1))\n",
        "        for images in dataset:\n",
        "            loss = train_steps(images)\n",
        "        print(\" Time: {}\".format(np.round(time.time() - start, 2)))\n",
        "        print(\"Generator Loss: {} Discriminator Loss: {}\".format(loss['gen_loss'], loss['disc_loss']))\n",
        "        D_loss.append(loss['disc_loss'])\n",
        "        G_loss.append(loss['gen_loss'])\n",
        "    return (G_loss, D_loss)"
      ],
      "metadata": {
        "id": "A5-4iM0Xbqwu"
      },
      "execution_count": 21,
      "outputs": []
    },
    {
      "cell_type": "code",
      "source": [
        "G_classic, D_classic = train(EPOCHS, dataset)"
      ],
      "metadata": {
        "colab": {
          "base_uri": "https://localhost:8080/"
        },
        "id": "zg3THAxEbsef",
        "outputId": "2ef3d42c-4c62-4e22-8722-7aadf8dab8ea"
      },
      "execution_count": 22,
      "outputs": [
        {
          "output_type": "stream",
          "name": "stdout",
          "text": [
            "\n",
            "Epoch: 1\n",
            " Time: 12.65\n",
            "Generator Loss: 0.7083946466445923 Discriminator Loss: 1.366499662399292\n",
            "\n",
            "Epoch: 2\n",
            " Time: 9.24\n",
            "Generator Loss: 0.796553373336792 Discriminator Loss: 1.3222815990447998\n",
            "\n",
            "Epoch: 3\n",
            " Time: 9.23\n",
            "Generator Loss: 0.7289092540740967 Discriminator Loss: 1.3263421058654785\n",
            "\n",
            "Epoch: 4\n",
            " Time: 9.3\n",
            "Generator Loss: 0.7473308444023132 Discriminator Loss: 1.391557216644287\n",
            "\n",
            "Epoch: 5\n",
            " Time: 9.21\n",
            "Generator Loss: 0.7235088348388672 Discriminator Loss: 1.3564952611923218\n",
            "\n",
            "Epoch: 6\n",
            " Time: 9.25\n",
            "Generator Loss: 0.6904101371765137 Discriminator Loss: 1.3846501111984253\n",
            "\n",
            "Epoch: 7\n",
            " Time: 9.31\n",
            "Generator Loss: 0.7014346122741699 Discriminator Loss: 1.3056683540344238\n",
            "\n",
            "Epoch: 8\n",
            " Time: 9.2\n",
            "Generator Loss: 0.8120253086090088 Discriminator Loss: 1.2750792503356934\n",
            "\n",
            "Epoch: 9\n",
            " Time: 9.2\n",
            "Generator Loss: 0.8697936534881592 Discriminator Loss: 1.0812621116638184\n",
            "\n",
            "Epoch: 10\n",
            " Time: 9.26\n",
            "Generator Loss: 1.4341529607772827 Discriminator Loss: 0.896003246307373\n",
            "\n",
            "Epoch: 11\n",
            " Time: 9.19\n",
            "Generator Loss: 1.5223498344421387 Discriminator Loss: 0.7230927348136902\n",
            "\n",
            "Epoch: 12\n",
            " Time: 9.15\n",
            "Generator Loss: 2.0479302406311035 Discriminator Loss: 0.5311217904090881\n",
            "\n",
            "Epoch: 13\n",
            " Time: 9.26\n",
            "Generator Loss: 1.7931095361709595 Discriminator Loss: 0.581731915473938\n",
            "\n",
            "Epoch: 14\n",
            " Time: 9.27\n",
            "Generator Loss: 1.6441307067871094 Discriminator Loss: 0.5212254524230957\n",
            "\n",
            "Epoch: 15\n",
            " Time: 9.17\n",
            "Generator Loss: 1.8271715641021729 Discriminator Loss: 0.7557666897773743\n",
            "\n",
            "Epoch: 16\n",
            " Time: 9.24\n",
            "Generator Loss: 2.7129745483398438 Discriminator Loss: 0.5948503613471985\n",
            "\n",
            "Epoch: 17\n",
            " Time: 9.17\n",
            "Generator Loss: 2.349673271179199 Discriminator Loss: 0.2798749804496765\n",
            "\n",
            "Epoch: 18\n",
            " Time: 9.22\n",
            "Generator Loss: 2.493915557861328 Discriminator Loss: 0.13611888885498047\n",
            "\n",
            "Epoch: 19\n",
            " Time: 9.16\n",
            "Generator Loss: 1.6672167778015137 Discriminator Loss: 0.3467026948928833\n",
            "\n",
            "Epoch: 20\n",
            " Time: 9.18\n",
            "Generator Loss: 2.707167625427246 Discriminator Loss: 0.15940681099891663\n",
            "\n",
            "Epoch: 21\n",
            " Time: 9.16\n",
            "Generator Loss: 3.4264073371887207 Discriminator Loss: 0.15449541807174683\n",
            "\n",
            "Epoch: 22\n",
            " Time: 9.15\n",
            "Generator Loss: 4.413716793060303 Discriminator Loss: 0.11203058809041977\n",
            "\n",
            "Epoch: 23\n",
            " Time: 9.15\n",
            "Generator Loss: 4.628832817077637 Discriminator Loss: 0.06832446157932281\n",
            "\n",
            "Epoch: 24\n",
            " Time: 9.16\n",
            "Generator Loss: 3.898249387741089 Discriminator Loss: 0.4577116072177887\n",
            "\n",
            "Epoch: 25\n",
            " Time: 9.16\n",
            "Generator Loss: 4.376452445983887 Discriminator Loss: 0.08809724450111389\n",
            "\n",
            "Epoch: 26\n",
            " Time: 9.22\n",
            "Generator Loss: 4.258208274841309 Discriminator Loss: 0.14856259524822235\n",
            "\n",
            "Epoch: 27\n",
            " Time: 9.17\n",
            "Generator Loss: 2.503424644470215 Discriminator Loss: 0.30730170011520386\n",
            "\n",
            "Epoch: 28\n",
            " Time: 9.19\n",
            "Generator Loss: 4.872330665588379 Discriminator Loss: 0.1039663702249527\n",
            "\n",
            "Epoch: 29\n",
            " Time: 9.18\n",
            "Generator Loss: 4.482230186462402 Discriminator Loss: 0.01963226869702339\n",
            "\n",
            "Epoch: 30\n",
            " Time: 9.21\n",
            "Generator Loss: 3.4581995010375977 Discriminator Loss: 0.04795584827661514\n",
            "\n",
            "Epoch: 31\n",
            " Time: 9.21\n",
            "Generator Loss: 5.101139068603516 Discriminator Loss: 0.08163261413574219\n",
            "\n",
            "Epoch: 32\n",
            " Time: 9.11\n",
            "Generator Loss: 4.178755283355713 Discriminator Loss: 0.031690023839473724\n",
            "\n",
            "Epoch: 33\n",
            " Time: 9.15\n",
            "Generator Loss: 4.932797908782959 Discriminator Loss: 0.02327173575758934\n",
            "\n",
            "Epoch: 34\n",
            " Time: 9.17\n",
            "Generator Loss: 6.147275924682617 Discriminator Loss: 0.047263503074645996\n",
            "\n",
            "Epoch: 35\n",
            " Time: 9.19\n",
            "Generator Loss: 4.785506248474121 Discriminator Loss: 0.03197880834341049\n",
            "\n",
            "Epoch: 36\n",
            " Time: 9.14\n",
            "Generator Loss: 2.6970579624176025 Discriminator Loss: 0.1461499184370041\n",
            "\n",
            "Epoch: 37\n",
            " Time: 9.21\n",
            "Generator Loss: 5.534836769104004 Discriminator Loss: 0.08554843813180923\n",
            "\n",
            "Epoch: 38\n",
            " Time: 9.16\n",
            "Generator Loss: 4.63625431060791 Discriminator Loss: 0.06124456226825714\n",
            "\n",
            "Epoch: 39\n",
            " Time: 9.16\n",
            "Generator Loss: 6.063623905181885 Discriminator Loss: 0.06938000023365021\n",
            "\n",
            "Epoch: 40\n",
            " Time: 9.23\n",
            "Generator Loss: 6.9944071769714355 Discriminator Loss: 0.0012077848659828305\n",
            "\n",
            "Epoch: 41\n",
            " Time: 9.24\n",
            "Generator Loss: 5.091963291168213 Discriminator Loss: 0.01019456796348095\n",
            "\n",
            "Epoch: 42\n",
            " Time: 9.18\n",
            "Generator Loss: 5.619541168212891 Discriminator Loss: 0.007345960475504398\n",
            "\n",
            "Epoch: 43\n",
            " Time: 9.22\n",
            "Generator Loss: 6.5462565422058105 Discriminator Loss: 0.003006501356139779\n",
            "\n",
            "Epoch: 44\n",
            " Time: 9.24\n",
            "Generator Loss: 5.861480712890625 Discriminator Loss: 0.23606331646442413\n",
            "\n",
            "Epoch: 45\n",
            " Time: 9.18\n",
            "Generator Loss: 6.214533805847168 Discriminator Loss: 0.05242538824677467\n",
            "\n",
            "Epoch: 46\n",
            " Time: 9.25\n",
            "Generator Loss: 4.8566575050354 Discriminator Loss: 0.01098191924393177\n",
            "\n",
            "Epoch: 47\n",
            " Time: 9.21\n",
            "Generator Loss: 5.163186073303223 Discriminator Loss: 0.028333038091659546\n",
            "\n",
            "Epoch: 48\n",
            " Time: 9.22\n",
            "Generator Loss: 6.952383041381836 Discriminator Loss: 0.025910258293151855\n",
            "\n",
            "Epoch: 49\n",
            " Time: 9.22\n",
            "Generator Loss: 5.225307941436768 Discriminator Loss: 0.009592587128281593\n",
            "\n",
            "Epoch: 50\n",
            " Time: 9.25\n",
            "Generator Loss: 5.789402008056641 Discriminator Loss: 0.005006768740713596\n"
          ]
        }
      ]
    },
    {
      "cell_type": "markdown",
      "source": [
        "# Image generation using classical DCGAN model"
      ],
      "metadata": {
        "id": "ObRH9ik7mLY9"
      }
    },
    {
      "cell_type": "code",
      "source": [
        "def plot_generated_images(square = 5):\n",
        "\n",
        "\n",
        "  plt.figure(figsize = (10,10))\n",
        "  for i in range(square * square):\n",
        "    plt.subplot(square, square, i+1)\n",
        "    noise = np.random.normal(0,1,(1,LATENT_DIM))\n",
        "    img = generator_classic(noise)\n",
        "    plt.imshow(np.clip((img[0,...]+1)/2, 0, 1), cmap=\"gray\")\n",
        "\n",
        "    plt.axis('off')\n",
        "    plt.grid()"
      ],
      "metadata": {
        "id": "EE77SMf6mXqJ"
      },
      "execution_count": 23,
      "outputs": []
    },
    {
      "cell_type": "code",
      "source": [
        "plot_generated_images(5)"
      ],
      "metadata": {
        "colab": {
          "base_uri": "https://localhost:8080/",
          "height": 807
        },
        "id": "GKaraMPjmf0U",
        "outputId": "dedbd69c-3c92-40a7-8807-4364d01fee2e"
      },
      "execution_count": 24,
      "outputs": [
        {
          "output_type": "display_data",
          "data": {
            "text/plain": [
              "<Figure size 1000x1000 with 25 Axes>"
            ],
            "image/png": "[encoded data removed]"
          },
          "metadata": {}
        }
      ]
    },
    {
      "cell_type": "markdown",
      "source": [
        "## Training an improved DCGAN model"
      ],
      "metadata": {
        "id": "mfjRWIYHms6q"
      }
    },
    {
      "cell_type": "code",
      "source": [
        "optimizer_G_improved = tf.keras.optimizers.Adam(learning_rate=0.0002, beta_1=0.5)\n",
        "optimizer_D_improved = tf.keras.optimizers.Adam(learning_rate=0.0002, beta_1=0.5)\n",
        "\n",
        "# This creates a helper function for computing binary cross-entropy losses\n",
        "cross_entropy_improved = tf.keras.losses.BinaryCrossentropy()"
      ],
      "metadata": {
        "id": "EOKUuDj-nPQf"
      },
      "execution_count": 25,
      "outputs": []
    },
    {
      "cell_type": "code",
      "source": [
        "# We use the `tf.function` decorator, though it also works without it.\n",
        "# It tells TensorFlow to compile this function, which optimizes the training process.\n",
        "@tf.function\n",
        "def train_steps_improved(images):\n",
        "\n",
        "    # Generate noise as input to the generator\n",
        "    noise = np.random.normal(0, 1, (BATCH_SIZE, LATENT_DIM))\n",
        "\n",
        "    # Initialize separate GradientTapes for the discriminator and generator\n",
        "    # to record operations during the forward pass, enabling automatic differentiation.\n",
        "    with tf.GradientTape() as gen_tape, tf.GradientTape() as disc_tape:\n",
        "        # Run a forward pass of the noise through the generator.\n",
        "        # Each operation applied by a layer to its inputs is recorded on the GradientTape,\n",
        "        # like on a tape recorder — hence the name \"gradient tape\".\n",
        "        generated_images = generator_improved(noise)\n",
        "\n",
        "        # Also run a forward pass through the discriminator\n",
        "        # for both real and fake images\n",
        "        fake_output = discriminator_improved(generated_images)\n",
        "        real_output = discriminator_improved(images)\n",
        "\n",
        "        # Compute loss functions (loss values)\n",
        "        gen_loss = generator_loss(fake_output)\n",
        "        dis_loss = discriminator_loss(fake_output, real_output)\n",
        "\n",
        "    # Use the gradient tapes to automatically compute gradients\n",
        "    # of the trainable variables with respect to the losses.\n",
        "    gradient_of_generator = gen_tape.gradient(gen_loss, generator_improved.trainable_variables)\n",
        "    gradient_of_discriminator = disc_tape.gradient(dis_loss, discriminator_improved.trainable_variables)\n",
        "\n",
        "    # Perform one step of gradient descent by updating\n",
        "    # the variables to minimize the losses.\n",
        "    optimizer_G_improved.apply_gradients(zip(gradient_of_generator, generator_improved.trainable_variables))\n",
        "    optimizer_D_improved.apply_gradients(zip(gradient_of_discriminator, discriminator_improved.trainable_variables))\n",
        "\n",
        "    # Return the loss values for visualization\n",
        "    loss = {\n",
        "        'gen_loss': gen_loss,\n",
        "        'disc_loss': dis_loss\n",
        "    }\n",
        "    return loss"
      ],
      "metadata": {
        "id": "RcgB4p70mv9D"
      },
      "execution_count": 26,
      "outputs": []
    },
    {
      "cell_type": "code",
      "source": [
        "import time\n",
        "\n",
        "def train_improved(epochs, dataset):\n",
        "    D_loss = []  # list to collect discriminator loss values\n",
        "    G_loss = []  # list to collect generator loss values\n",
        "    for epoch in range(epochs):\n",
        "        start = time.time()\n",
        "        print(\"\\nEpoch: {}\".format(epoch + 1))\n",
        "        for images in dataset:\n",
        "            loss = train_steps_improved(images)\n",
        "        print(\" Time: {}\".format(np.round(time.time() - start, 2)))\n",
        "        print(\"Generator Loss: {} Discriminator Loss: {}\".format(loss['gen_loss'], loss['disc_loss']))\n",
        "        D_loss.append(loss['disc_loss'])\n",
        "        G_loss.append(loss['gen_loss'])\n",
        "    return (G_loss, D_loss)"
      ],
      "metadata": {
        "id": "etFn_jflnEUr"
      },
      "execution_count": 27,
      "outputs": []
    },
    {
      "cell_type": "code",
      "source": [
        "G_improved, D_improved = train_improved(EPOCHS, dataset)"
      ],
      "metadata": {
        "colab": {
          "base_uri": "https://localhost:8080/"
        },
        "id": "A3xtDIG1nG78",
        "outputId": "53efe5d1-ce31-4a11-f4a2-8862f24ef44e"
      },
      "execution_count": 28,
      "outputs": [
        {
          "output_type": "stream",
          "name": "stdout",
          "text": [
            "\n",
            "Epoch: 1\n",
            " Time: 20.39\n",
            "Generator Loss: 0.8773735761642456 Discriminator Loss: 1.1802873611450195\n",
            "\n",
            "Epoch: 2\n",
            " Time: 15.95\n",
            "Generator Loss: 0.5361360311508179 Discriminator Loss: 1.187873125076294\n",
            "\n",
            "Epoch: 3\n",
            " Time: 15.9\n",
            "Generator Loss: 1.1137524843215942 Discriminator Loss: 1.1150360107421875\n",
            "\n",
            "Epoch: 4\n",
            " Time: 15.98\n",
            "Generator Loss: 0.8086948394775391 Discriminator Loss: 1.1832339763641357\n",
            "\n",
            "Epoch: 5\n",
            " Time: 15.97\n",
            "Generator Loss: 1.2886431217193604 Discriminator Loss: 1.1290979385375977\n",
            "\n",
            "Epoch: 6\n",
            " Time: 16.01\n",
            "Generator Loss: 1.1142117977142334 Discriminator Loss: 1.0133565664291382\n",
            "\n",
            "Epoch: 7\n",
            " Time: 16.12\n",
            "Generator Loss: 0.9564905762672424 Discriminator Loss: 0.9955548048019409\n",
            "\n",
            "Epoch: 8\n",
            " Time: 16.04\n",
            "Generator Loss: 1.0218620300292969 Discriminator Loss: 1.123611330986023\n",
            "\n",
            "Epoch: 9\n",
            " Time: 16.36\n",
            "Generator Loss: 1.2192373275756836 Discriminator Loss: 1.220460057258606\n",
            "\n",
            "Epoch: 10\n",
            " Time: 15.89\n",
            "Generator Loss: 1.3168909549713135 Discriminator Loss: 0.8566790223121643\n",
            "\n",
            "Epoch: 11\n",
            " Time: 16.01\n",
            "Generator Loss: 0.9340516328811646 Discriminator Loss: 1.2949585914611816\n",
            "\n",
            "Epoch: 12\n",
            " Time: 15.92\n",
            "Generator Loss: 1.3880958557128906 Discriminator Loss: 0.9467777013778687\n",
            "\n",
            "Epoch: 13\n",
            " Time: 15.81\n",
            "Generator Loss: 0.9259931445121765 Discriminator Loss: 1.1489908695220947\n",
            "\n",
            "Epoch: 14\n",
            " Time: 15.81\n",
            "Generator Loss: 1.240718960762024 Discriminator Loss: 0.7992386817932129\n",
            "\n",
            "Epoch: 15\n",
            " Time: 15.93\n",
            "Generator Loss: 1.0606498718261719 Discriminator Loss: 0.8282921314239502\n",
            "\n",
            "Epoch: 16\n",
            " Time: 15.86\n",
            "Generator Loss: 1.4919956922531128 Discriminator Loss: 0.9032012224197388\n",
            "\n",
            "Epoch: 17\n",
            " Time: 15.9\n",
            "Generator Loss: 0.9031758308410645 Discriminator Loss: 1.2723209857940674\n",
            "\n",
            "Epoch: 18\n",
            " Time: 15.89\n",
            "Generator Loss: 1.4774529933929443 Discriminator Loss: 0.9179381728172302\n",
            "\n",
            "Epoch: 19\n",
            " Time: 15.89\n",
            "Generator Loss: 1.249069333076477 Discriminator Loss: 1.0970982313156128\n",
            "\n",
            "Epoch: 20\n",
            " Time: 15.91\n",
            "Generator Loss: 1.5649027824401855 Discriminator Loss: 1.2386447191238403\n",
            "\n",
            "Epoch: 21\n",
            " Time: 15.92\n",
            "Generator Loss: 1.2832276821136475 Discriminator Loss: 0.8601663112640381\n",
            "\n",
            "Epoch: 22\n",
            " Time: 15.95\n",
            "Generator Loss: 1.2618690729141235 Discriminator Loss: 1.0528416633605957\n",
            "\n",
            "Epoch: 23\n",
            " Time: 16.34\n",
            "Generator Loss: 1.2795947790145874 Discriminator Loss: 0.7750504016876221\n",
            "\n",
            "Epoch: 24\n",
            " Time: 16.22\n",
            "Generator Loss: 1.208931803703308 Discriminator Loss: 0.73876953125\n",
            "\n",
            "Epoch: 25\n",
            " Time: 15.98\n",
            "Generator Loss: 1.1314818859100342 Discriminator Loss: 0.8672934770584106\n",
            "\n",
            "Epoch: 26\n",
            " Time: 16.62\n",
            "Generator Loss: 1.0351428985595703 Discriminator Loss: 0.6593299508094788\n",
            "\n",
            "Epoch: 27\n",
            " Time: 16.07\n",
            "Generator Loss: 1.6888221502304077 Discriminator Loss: 0.8082874417304993\n",
            "\n",
            "Epoch: 28\n",
            " Time: 16.0\n",
            "Generator Loss: 1.4776074886322021 Discriminator Loss: 0.9292657375335693\n",
            "\n",
            "Epoch: 29\n",
            " Time: 15.98\n",
            "Generator Loss: 2.0242254734039307 Discriminator Loss: 1.0442736148834229\n",
            "\n",
            "Epoch: 30\n",
            " Time: 15.92\n",
            "Generator Loss: 1.3268409967422485 Discriminator Loss: 0.7837265729904175\n",
            "\n",
            "Epoch: 31\n",
            " Time: 16.06\n",
            "Generator Loss: 1.0325498580932617 Discriminator Loss: 1.1553490161895752\n",
            "\n",
            "Epoch: 32\n",
            " Time: 15.94\n",
            "Generator Loss: 1.8108588457107544 Discriminator Loss: 0.7136268019676208\n",
            "\n",
            "Epoch: 33\n",
            " Time: 16.02\n",
            "Generator Loss: 1.3437012434005737 Discriminator Loss: 0.9293269515037537\n",
            "\n",
            "Epoch: 34\n",
            " Time: 16.01\n",
            "Generator Loss: 1.5125694274902344 Discriminator Loss: 0.6967184543609619\n",
            "\n",
            "Epoch: 35\n",
            " Time: 15.95\n",
            "Generator Loss: 1.020042896270752 Discriminator Loss: 0.8682889938354492\n",
            "\n",
            "Epoch: 36\n",
            " Time: 15.93\n",
            "Generator Loss: 1.1249885559082031 Discriminator Loss: 0.9258891940116882\n",
            "\n",
            "Epoch: 37\n",
            " Time: 15.88\n",
            "Generator Loss: 1.1957536935806274 Discriminator Loss: 0.8075335621833801\n",
            "\n",
            "Epoch: 38\n",
            " Time: 15.91\n",
            "Generator Loss: 1.1541705131530762 Discriminator Loss: 0.9122269153594971\n",
            "\n",
            "Epoch: 39\n",
            " Time: 15.91\n",
            "Generator Loss: 1.25673508644104 Discriminator Loss: 0.8631221055984497\n",
            "\n",
            "Epoch: 40\n",
            " Time: 15.97\n",
            "Generator Loss: 1.4292551279067993 Discriminator Loss: 0.8201269507408142\n",
            "\n",
            "Epoch: 41\n",
            " Time: 16.05\n",
            "Generator Loss: 1.8314733505249023 Discriminator Loss: 1.037259817123413\n",
            "\n",
            "Epoch: 42\n",
            " Time: 15.91\n",
            "Generator Loss: 0.6178666353225708 Discriminator Loss: 1.0190725326538086\n",
            "\n",
            "Epoch: 43\n",
            " Time: 16.03\n",
            "Generator Loss: 1.3975293636322021 Discriminator Loss: 0.8719353079795837\n",
            "\n",
            "Epoch: 44\n",
            " Time: 15.95\n",
            "Generator Loss: 1.0285614728927612 Discriminator Loss: 0.8762713074684143\n",
            "\n",
            "Epoch: 45\n",
            " Time: 15.92\n",
            "Generator Loss: 0.9869179725646973 Discriminator Loss: 0.9771676659584045\n",
            "\n",
            "Epoch: 46\n",
            " Time: 16.03\n",
            "Generator Loss: 1.6610774993896484 Discriminator Loss: 0.8297364711761475\n",
            "\n",
            "Epoch: 47\n",
            " Time: 15.91\n",
            "Generator Loss: 1.3236253261566162 Discriminator Loss: 0.8471297025680542\n",
            "\n",
            "Epoch: 48\n",
            " Time: 15.96\n",
            "Generator Loss: 1.111371397972107 Discriminator Loss: 0.9012067914009094\n",
            "\n",
            "Epoch: 49\n",
            " Time: 15.92\n",
            "Generator Loss: 1.28000009059906 Discriminator Loss: 0.7652249932289124\n",
            "\n",
            "Epoch: 50\n",
            " Time: 16.3\n",
            "Generator Loss: 1.0001858472824097 Discriminator Loss: 0.7626684904098511\n"
          ]
        }
      ]
    },
    {
      "cell_type": "markdown",
      "source": [
        "# Image Generation Using Improved DCGAN Model"
      ],
      "metadata": {
        "id": "gfdUNkOZioSK"
      }
    },
    {
      "cell_type": "code",
      "source": [
        "def plot_generated_improved_images(square = 5):\n",
        "\n",
        "\n",
        "  plt.figure(figsize = (10,10))\n",
        "  for i in range(square * square):\n",
        "    plt.subplot(square, square, i+1)\n",
        "    noise = np.random.normal(0,1,(1,LATENT_DIM))\n",
        "    img = generator_improved(noise)\n",
        "    plt.imshow(np.clip((img[0,...]+1)/2, 0, 1), cmap=\"gray\")\n",
        "\n",
        "    plt.axis('off')\n",
        "    plt.grid()"
      ],
      "metadata": {
        "id": "L0dQpHHtiuXM"
      },
      "execution_count": 29,
      "outputs": []
    },
    {
      "cell_type": "code",
      "source": [
        "plot_generated_improved_images(5)"
      ],
      "metadata": {
        "colab": {
          "base_uri": "https://localhost:8080/",
          "height": 807
        },
        "id": "6G-GOL3Ci8na",
        "outputId": "f77fc4e2-5fa4-4f6b-8587-eb6efbce2990"
      },
      "execution_count": 30,
      "outputs": [
        {
          "output_type": "display_data",
          "data": {
            "text/plain": [
              "<Figure size 1000x1000 with 25 Axes>"
            ],
            "image/png": "[encoded data removed]"
          },
          "metadata": {}
        }
      ]
    },
    {
      "cell_type": "markdown",
      "source": [
        "# Comparative analysis of models"
      ],
      "metadata": {
        "id": "ZvglZ452uzH1"
      }
    },
    {
      "cell_type": "markdown",
      "source": [
        "* Training speed: According to the training log, the epochs of the classical model took about 9s, while the improved one took about 15s. The classical architecture learns faster."
      ],
      "metadata": {
        "id": "PHjDwh27xcxX"
      }
    },
    {
      "cell_type": "markdown",
      "source": [
        "* Image realism: DCGAN significantly outperforms classical GAN ​​on the Fashion-MNIST dataset in all visual features: clothing objects are recognizable, diverse and contain more details, while classical architecture has hardly left the “noise spots” stage."
      ],
      "metadata": {
        "id": "QI8rVUsAxmhD"
      }
    },
    {
      "cell_type": "markdown",
      "source": [
        "* Stability. Losses fluctuate approximately equally in both models."
      ],
      "metadata": {
        "id": "igu-YDhox48C"
      }
    }
  ]
}